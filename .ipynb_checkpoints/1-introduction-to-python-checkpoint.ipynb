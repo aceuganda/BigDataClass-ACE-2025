{
 "cells": [
  {
   "cell_type": "markdown",
   "metadata": {},
   "source": [
    "\n",
    "> In this series, we will cover the basiscs of `Data Analysis` using Python. The lessons will start growing gradually untill forming a concrete analytical mindset for students. This lesson will cover the essentials of Python and its various objects and data structures. \n",
    "\n",
    "\n",
    "![Python for Data Analysis](https://i.ibb.co/x2D7Dpk/Python.gif)"
   ]
  },
  {
   "cell_type": "markdown",
   "metadata": {},
   "source": [
    "# Python Variables"
   ]
  },
  {
   "cell_type": "markdown",
   "metadata": {},
   "source": [
    "Variables in Python, unlike other programming langugues, do not need a pre-assignment. They get declared the moment you asign a value to them. "
   ]
  },
  {
   "cell_type": "code",
   "execution_count": 1,
   "metadata": {},
   "outputs": [],
   "source": [
    "# now we will create a variable 'a' that will be equal to 3\n",
    "a = 3 "
   ]
  },
  {
   "cell_type": "code",
   "execution_count": 3,
   "metadata": {},
   "outputs": [
    {
     "name": "stdout",
     "output_type": "stream",
     "text": [
      "3\n"
     ]
    }
   ],
   "source": [
    "# if we call that variable again we will see its value\n",
    "print(a)"
   ]
  },
  {
   "cell_type": "markdown",
   "metadata": {},
   "source": [
    "What I have learnt from this:\n",
    "- In python you don't need to sweat it, its very easy\n",
    "- No need to terminate with ;"
   ]
  },
  {
   "cell_type": "code",
   "execution_count": 5,
   "metadata": {},
   "outputs": [],
   "source": [
    "b = 5"
   ]
  },
  {
   "cell_type": "code",
   "execution_count": 7,
   "metadata": {},
   "outputs": [
    {
     "name": "stdout",
     "output_type": "stream",
     "text": [
      "5\n"
     ]
    }
   ],
   "source": [
    "print (b)"
   ]
  },
  {
   "cell_type": "code",
   "execution_count": null,
   "metadata": {
    "execution": {
     "iopub.execute_input": "2022-12-29T21:57:01.783259Z",
     "iopub.status.busy": "2022-12-29T21:57:01.78207Z",
     "iopub.status.idle": "2022-12-29T21:57:01.789618Z",
     "shell.execute_reply": "2022-12-29T21:57:01.788168Z",
     "shell.execute_reply.started": "2022-12-29T21:57:01.783216Z"
    }
   },
   "outputs": [],
   "source": [
    "# how to check the type of a variable ?\n",
    "print(type(a))"
   ]
  },
  {
   "cell_type": "markdown",
   "metadata": {},
   "source": [
    "The variable here is of type `int` which represents a whole number. However, the transition due to any mathematical transformation between the `int` type and `float` type is smooth"
   ]
  },
  {
   "cell_type": "code",
   "execution_count": null,
   "metadata": {
    "execution": {
     "iopub.execute_input": "2022-12-29T21:57:02.117295Z",
     "iopub.status.busy": "2022-12-29T21:57:02.116188Z",
     "iopub.status.idle": "2022-12-29T21:57:02.124833Z",
     "shell.execute_reply": "2022-12-29T21:57:02.123588Z",
     "shell.execute_reply.started": "2022-12-29T21:57:02.11724Z"
    }
   },
   "outputs": [],
   "source": [
    "# int variables can be used in any mathmatical operation\n",
    "print('2a :', 2*a)\n",
    "print('a/5 :', a / 5)\n",
    "print('a ** 4 :', a ** 4)"
   ]
  },
  {
   "cell_type": "code",
   "execution_count": null,
   "metadata": {
    "execution": {
     "iopub.execute_input": "2022-12-29T21:57:02.281505Z",
     "iopub.status.busy": "2022-12-29T21:57:02.281027Z",
     "iopub.status.idle": "2022-12-29T21:57:02.289995Z",
     "shell.execute_reply": "2022-12-29T21:57:02.288489Z",
     "shell.execute_reply.started": "2022-12-29T21:57:02.28147Z"
    }
   },
   "outputs": [],
   "source": [
    "# What about numbers with floating points\n",
    "f = 3.2\n",
    "print('f: ', f)\n",
    "print('type: ', type(f))\n",
    "print('2f: ', 5*f )\n",
    "print('f/3: ', f / 3)"
   ]
  },
  {
   "cell_type": "markdown",
   "metadata": {},
   "source": [
    "Also, `float` data type is very smooth in mathematical transformation but `float` data type does not go to `int` data type by itself. "
   ]
  },
  {
   "cell_type": "markdown",
   "metadata": {},
   "source": [
    "##### Python can easily create `str` variables also"
   ]
  },
  {
   "cell_type": "code",
   "execution_count": null,
   "metadata": {
    "execution": {
     "iopub.execute_input": "2022-12-29T21:57:02.805693Z",
     "iopub.status.busy": "2022-12-29T21:57:02.804853Z",
     "iopub.status.idle": "2022-12-29T21:57:02.811737Z",
     "shell.execute_reply": "2022-12-29T21:57:02.810178Z",
     "shell.execute_reply.started": "2022-12-29T21:57:02.805651Z"
    }
   },
   "outputs": [],
   "source": [
    "# Can we create another data types that can represent some text for example?\n",
    "str_var = 'Python'"
   ]
  },
  {
   "cell_type": "code",
   "execution_count": null,
   "metadata": {
    "execution": {
     "iopub.execute_input": "2022-12-29T21:57:03.010407Z",
     "iopub.status.busy": "2022-12-29T21:57:03.009918Z",
     "iopub.status.idle": "2022-12-29T21:57:03.017747Z",
     "shell.execute_reply": "2022-12-29T21:57:03.016395Z",
     "shell.execute_reply.started": "2022-12-29T21:57:03.010372Z"
    }
   },
   "outputs": [],
   "source": [
    "# What its value if we call it?\n",
    "print(str_var)"
   ]
  },
  {
   "cell_type": "code",
   "execution_count": null,
   "metadata": {
    "execution": {
     "iopub.execute_input": "2022-12-29T21:57:03.802356Z",
     "iopub.status.busy": "2022-12-29T21:57:03.801849Z",
     "iopub.status.idle": "2022-12-29T21:57:03.809489Z",
     "shell.execute_reply": "2022-12-29T21:57:03.8081Z",
     "shell.execute_reply.started": "2022-12-29T21:57:03.802318Z"
    }
   },
   "outputs": [],
   "source": [
    "# Check the datatype\n",
    "print(type(str_var))"
   ]
  },
  {
   "cell_type": "code",
   "execution_count": null,
   "metadata": {
    "execution": {
     "iopub.execute_input": "2022-12-29T21:57:04.017369Z",
     "iopub.status.busy": "2022-12-29T21:57:04.016827Z",
     "iopub.status.idle": "2022-12-29T21:57:04.025328Z",
     "shell.execute_reply": "2022-12-29T21:57:04.023683Z",
     "shell.execute_reply.started": "2022-12-29T21:57:04.017329Z"
    }
   },
   "outputs": [],
   "source": [
    "# How many characters?\n",
    "print(len(str_var))"
   ]
  },
  {
   "cell_type": "markdown",
   "metadata": {},
   "source": [
    "##### Strangly, Python string variables are responsive for addition and multiplication operations also but in a different way! Which is `concatenation`\n"
   ]
  },
  {
   "cell_type": "code",
   "execution_count": null,
   "metadata": {
    "execution": {
     "iopub.execute_input": "2022-12-29T21:57:04.326435Z",
     "iopub.status.busy": "2022-12-29T21:57:04.325815Z",
     "iopub.status.idle": "2022-12-29T21:57:04.333992Z",
     "shell.execute_reply": "2022-12-29T21:57:04.332428Z",
     "shell.execute_reply.started": "2022-12-29T21:57:04.326387Z"
    }
   },
   "outputs": [],
   "source": [
    "print(2*str_var)"
   ]
  },
  {
   "cell_type": "code",
   "execution_count": null,
   "metadata": {
    "execution": {
     "iopub.execute_input": "2022-12-29T21:57:04.474397Z",
     "iopub.status.busy": "2022-12-29T21:57:04.473915Z",
     "iopub.status.idle": "2022-12-29T21:57:04.480008Z",
     "shell.execute_reply": "2022-12-29T21:57:04.479067Z",
     "shell.execute_reply.started": "2022-12-29T21:57:04.474358Z"
    }
   },
   "outputs": [],
   "source": [
    "# addition process\n",
    "print(str_var + str_var)"
   ]
  },
  {
   "cell_type": "code",
   "execution_count": null,
   "metadata": {
    "execution": {
     "iopub.execute_input": "2022-12-29T21:57:04.608461Z",
     "iopub.status.busy": "2022-12-29T21:57:04.608004Z",
     "iopub.status.idle": "2022-12-29T21:57:04.614905Z",
     "shell.execute_reply": "2022-12-29T21:57:04.613441Z",
     "shell.execute_reply.started": "2022-12-29T21:57:04.608427Z"
    }
   },
   "outputs": [],
   "source": [
    "# string multiplication can be useful and fun!\n",
    "print('=='*75)"
   ]
  },
  {
   "cell_type": "markdown",
   "metadata": {},
   "source": [
    "# String Manipulation\n",
    "String manipulation is to extract some new information from the input `str`. These information can be the index of a caracter, a part of a word, firt or last charcter of a string, etc.. "
   ]
  },
  {
   "cell_type": "markdown",
   "metadata": {},
   "source": [
    "## Indexing\n",
    "\n",
    "Indexing is the way Python call indvidual charcters. It has two modes forward and backward mode. Each of them is designed to ease the process of string manpulation. \n",
    "\n",
    "This indexing style is valid for various objects in python such as `lists`, and `tuples`\n",
    "\n",
    "\n",
    "![Indexing in Python](https://i.ibb.co/SvH9RYZ/indexing.png)"
   ]
  },
  {
   "cell_type": "code",
   "execution_count": null,
   "metadata": {
    "execution": {
     "iopub.execute_input": "2022-12-29T21:57:05.571463Z",
     "iopub.status.busy": "2022-12-29T21:57:05.570984Z",
     "iopub.status.idle": "2022-12-29T21:57:05.576881Z",
     "shell.execute_reply": "2022-12-29T21:57:05.575625Z",
     "shell.execute_reply.started": "2022-12-29T21:57:05.571419Z"
    }
   },
   "outputs": [],
   "source": [
    "print(str_var[0])"
   ]
  },
  {
   "cell_type": "code",
   "execution_count": null,
   "metadata": {
    "execution": {
     "iopub.execute_input": "2022-12-29T21:57:05.755485Z",
     "iopub.status.busy": "2022-12-29T21:57:05.754964Z",
     "iopub.status.idle": "2022-12-29T21:57:05.762758Z",
     "shell.execute_reply": "2022-12-29T21:57:05.760976Z",
     "shell.execute_reply.started": "2022-12-29T21:57:05.755447Z"
    }
   },
   "outputs": [],
   "source": [
    "print(str_var[-1])"
   ]
  },
  {
   "cell_type": "markdown",
   "metadata": {},
   "source": [
    "You can also use indexing to select a range of the variable. "
   ]
  },
  {
   "cell_type": "code",
   "execution_count": null,
   "metadata": {
    "execution": {
     "iopub.execute_input": "2022-12-29T21:57:06.098009Z",
     "iopub.status.busy": "2022-12-29T21:57:06.097526Z",
     "iopub.status.idle": "2022-12-29T21:57:06.105625Z",
     "shell.execute_reply": "2022-12-29T21:57:06.104146Z",
     "shell.execute_reply.started": "2022-12-29T21:57:06.097974Z"
    }
   },
   "outputs": [],
   "source": [
    "print(str_var[0:2])\n",
    "print(str_var[:2])"
   ]
  },
  {
   "cell_type": "markdown",
   "metadata": {},
   "source": [
    "###### Notice\n",
    "- `str_var[0:2]` and `str_var[:2]` are equivilent to each other. When not starting index is passed it means start from the begining. The same applies when no ending index is passed. \n",
    "- Ending index is exclusive which means in `str_var[0:2]` only index 0 and 1 will be indexed. "
   ]
  },
  {
   "cell_type": "markdown",
   "metadata": {},
   "source": [
    "What if we want to know the index of a specific charachater in a long string? `index` function can help on that. "
   ]
  },
  {
   "cell_type": "code",
   "execution_count": null,
   "metadata": {
    "execution": {
     "iopub.execute_input": "2022-12-29T21:57:06.91149Z",
     "iopub.status.busy": "2022-12-29T21:57:06.910964Z",
     "iopub.status.idle": "2022-12-29T21:57:06.918299Z",
     "shell.execute_reply": "2022-12-29T21:57:06.917052Z",
     "shell.execute_reply.started": "2022-12-29T21:57:06.911452Z"
    }
   },
   "outputs": [],
   "source": [
    "print(str_var.index('n'))"
   ]
  },
  {
   "cell_type": "markdown",
   "metadata": {},
   "source": [
    "You can use this function to do a bunch of manipulations!\n",
    "\n",
    "Suppose you want to get the word passed or faild out of a sentence in that format: `\"student_name is passed/failed\"`"
   ]
  },
  {
   "cell_type": "code",
   "execution_count": null,
   "metadata": {
    "execution": {
     "iopub.execute_input": "2022-12-29T21:57:07.203333Z",
     "iopub.status.busy": "2022-12-29T21:57:07.202866Z",
     "iopub.status.idle": "2022-12-29T21:57:07.210125Z",
     "shell.execute_reply": "2022-12-29T21:57:07.209125Z",
     "shell.execute_reply.started": "2022-12-29T21:57:07.203295Z"
    }
   },
   "outputs": [],
   "source": [
    "str_var_2 = 'Muhammad has passed'\n",
    "# Let's try to find the index of s. \n",
    "print(str_var_2.index('s'))\n",
    "# Let's try to use this in an indexing form. \n",
    "print(str_var_2[str_var_2.index('s'):])\n",
    "# It seems that we are adding up more places\n",
    "print(str_var_2[str_var_2.index('s')+2:])\n"
   ]
  },
  {
   "cell_type": "markdown",
   "metadata": {},
   "source": [
    "# String Methods\n",
    "\n",
    "There are many methods associated with strings in Python. You can read more about them in this `w3s` [page.](https://www.w3schools.com/python/python_ref_string.asp)\n",
    "\n",
    "Below are some of those methods:"
   ]
  },
  {
   "cell_type": "code",
   "execution_count": null,
   "metadata": {
    "execution": {
     "iopub.execute_input": "2022-12-29T21:57:07.967345Z",
     "iopub.status.busy": "2022-12-29T21:57:07.966768Z",
     "iopub.status.idle": "2022-12-29T21:57:07.975545Z",
     "shell.execute_reply": "2022-12-29T21:57:07.97396Z",
     "shell.execute_reply.started": "2022-12-29T21:57:07.967282Z"
    }
   },
   "outputs": [],
   "source": [
    "# working of upper() function\n",
    "text = 'dAta Analysis is FUn'\n",
    "\n",
    "# upper() function to convert\n",
    "# string to upper case\n",
    "print(\"\\nConverted String: upper()\")\n",
    "print(text.upper())\n",
    "\n",
    "# lower() function to convert\n",
    "# string to lower case\n",
    "print(\"\\nConverted String: lower()\")\n",
    "print(text.lower())\n",
    "\n",
    "# converts the first character to\n",
    "# upper case and rest to lower case\n",
    "print(\"\\nConverted String: title()\")\n",
    "print(text.title())\n",
    "\n",
    "# original string never changes\n",
    "print(\"\\nOriginal String\")\n",
    "print(text)\n"
   ]
  },
  {
   "cell_type": "markdown",
   "metadata": {},
   "source": [
    "# Comparison Operators\n",
    "\n",
    "Comparison operators are the operands that are used to compare between two values. In Python, and unlike any other languague, there's no need to consturct conditional statements to query the result of the comparison. You can directly ask for the comparison just like the following. "
   ]
  },
  {
   "cell_type": "code",
   "execution_count": null,
   "metadata": {
    "execution": {
     "iopub.execute_input": "2022-12-29T21:57:08.318063Z",
     "iopub.status.busy": "2022-12-29T21:57:08.317584Z",
     "iopub.status.idle": "2022-12-29T21:57:08.329685Z",
     "shell.execute_reply": "2022-12-29T21:57:08.327933Z",
     "shell.execute_reply.started": "2022-12-29T21:57:08.318027Z"
    }
   },
   "outputs": [],
   "source": [
    "x = 10\n",
    "y = 5\n",
    "x > y"
   ]
  },
  {
   "cell_type": "markdown",
   "metadata": {},
   "source": [
    "Below is a list of all possible operators\n",
    "\n",
    "| Operator | Discription | Syntax |\n",
    "| --- | --- | --- |\n",
    "| > | Greater than: True if the left operand is greater than the right | x > y |\n",
    "| < | Less than: True if the left operand is less than the right | x < y |\n",
    "| == | Equal to: True if both operands are equal | x == y |\n",
    "| != | Not equal to – True if operands are not equal | x != y |\n",
    "| >= | Greater than or equal to: True if left operand is greater than or equal to the right | x >= y |\n",
    "| <= | Less than or equal to: True if left operand is less than or equal to the right | x <= y |"
   ]
  },
  {
   "cell_type": "markdown",
   "metadata": {},
   "source": [
    "# Logical Operators\n",
    "\n",
    "You can difine a variable in Python in a logical setting which means `true` or `flase` and the maths operations on top of it will be exactly like the normal ANDing, ORing, etc.. "
   ]
  },
  {
   "cell_type": "code",
   "execution_count": null,
   "metadata": {
    "execution": {
     "iopub.execute_input": "2022-12-29T21:57:09.044771Z",
     "iopub.status.busy": "2022-12-29T21:57:09.044316Z",
     "iopub.status.idle": "2022-12-29T21:57:09.052367Z",
     "shell.execute_reply": "2022-12-29T21:57:09.051094Z",
     "shell.execute_reply.started": "2022-12-29T21:57:09.044738Z"
    }
   },
   "outputs": [],
   "source": [
    "a = True\n",
    "b = False\n",
    "print(a and b)\n",
    "print(a or b)\n",
    "print(not a)"
   ]
  },
  {
   "cell_type": "markdown",
   "metadata": {},
   "source": [
    "# Mathematical Notation and Precedence.\n",
    "Every programming langugue has its own style in writing mathematical formulas. The operator precedence in Python is listed in the following table. It is in descending order (upper group has higher precedence than the lower ones).\n",
    "\n",
    "| Operators | Meaning |\n",
    "| --- | --- |\n",
    "| ( ) | Parentheses |\n",
    "| ** | Exponent |\n",
    "| +x, -x, ~x | Unary plus, Unary minus, Bitwise NOT |\n",
    "| *, /, //, % | Multiplication, Division, Floor division, Modulus |\n",
    "| +, - | Addition, Subtraction |\n",
    "| <<, >> | Bitwise shift operators |\n",
    "| & | Bitwise AND |\n",
    "| ^ | Bitwise XOR |\n",
    "| | | Bitwise OR |\n",
    "| ==, !=, >, >=, <, <=, is, is not, in, not in | Comparisons, Identity, Membership operators |\n",
    "| not | Logical NOT |\n",
    "| and | Logical ANDT |\n",
    "| or\t | Logical OR |\n"
   ]
  },
  {
   "cell_type": "markdown",
   "metadata": {},
   "source": [
    "# Lists\n",
    "\n",
    "Lists are used to store multiple items in a single variable and they are created using square brackets and they can be indexed similarly to the strings. \n",
    "\n",
    "\n",
    "Let's create our first list."
   ]
  },
  {
   "cell_type": "code",
   "execution_count": null,
   "metadata": {
    "execution": {
     "iopub.execute_input": "2022-12-29T21:57:09.990934Z",
     "iopub.status.busy": "2022-12-29T21:57:09.9905Z",
     "iopub.status.idle": "2022-12-29T21:57:09.996641Z",
     "shell.execute_reply": "2022-12-29T21:57:09.995334Z",
     "shell.execute_reply.started": "2022-12-29T21:57:09.990901Z"
    }
   },
   "outputs": [],
   "source": [
    "# List initialization\n",
    "sea_creatures = ['shark', 'cuttlefish', 'squid', 'mantis shrimp', 'anemone']"
   ]
  },
  {
   "cell_type": "code",
   "execution_count": null,
   "metadata": {
    "execution": {
     "iopub.execute_input": "2022-12-29T21:57:10.106189Z",
     "iopub.status.busy": "2022-12-29T21:57:10.105702Z",
     "iopub.status.idle": "2022-12-29T21:57:10.111933Z",
     "shell.execute_reply": "2022-12-29T21:57:10.110952Z",
     "shell.execute_reply.started": "2022-12-29T21:57:10.106151Z"
    }
   },
   "outputs": [],
   "source": [
    "# Print a list\n",
    "print(sea_creatures)"
   ]
  },
  {
   "cell_type": "markdown",
   "metadata": {},
   "source": [
    "Number of elements in the list can be determined using `len` function. "
   ]
  },
  {
   "cell_type": "code",
   "execution_count": null,
   "metadata": {
    "execution": {
     "iopub.execute_input": "2022-12-29T21:57:10.428373Z",
     "iopub.status.busy": "2022-12-29T21:57:10.427643Z",
     "iopub.status.idle": "2022-12-29T21:57:10.437422Z",
     "shell.execute_reply": "2022-12-29T21:57:10.43583Z",
     "shell.execute_reply.started": "2022-12-29T21:57:10.428319Z"
    }
   },
   "outputs": [],
   "source": [
    "# How many elements in this list\n",
    "len(sea_creatures)"
   ]
  },
  {
   "cell_type": "code",
   "execution_count": null,
   "metadata": {
    "execution": {
     "iopub.execute_input": "2022-12-29T21:57:10.957986Z",
     "iopub.status.busy": "2022-12-29T21:57:10.957512Z",
     "iopub.status.idle": "2022-12-29T21:57:10.966263Z",
     "shell.execute_reply": "2022-12-29T21:57:10.964602Z",
     "shell.execute_reply.started": "2022-12-29T21:57:10.957951Z"
    }
   },
   "outputs": [],
   "source": [
    "type(sea_creatures)"
   ]
  },
  {
   "cell_type": "markdown",
   "metadata": {},
   "source": [
    "## Indexing in Lists"
   ]
  },
  {
   "cell_type": "code",
   "execution_count": null,
   "metadata": {
    "execution": {
     "iopub.execute_input": "2022-12-29T21:57:11.345882Z",
     "iopub.status.busy": "2022-12-29T21:57:11.345395Z",
     "iopub.status.idle": "2022-12-29T21:57:11.353845Z",
     "shell.execute_reply": "2022-12-29T21:57:11.352066Z",
     "shell.execute_reply.started": "2022-12-29T21:57:11.345843Z"
    }
   },
   "outputs": [],
   "source": [
    "# Indexing\n",
    "print('The first element of sea_creatures : ', sea_creatures[0])\n",
    "print('The last element of sea_creatures : ', sea_creatures[-1])"
   ]
  },
  {
   "cell_type": "markdown",
   "metadata": {},
   "source": [
    "One important aspect of lists is that they are `mutable` objects which means they allow modifications to thier values. "
   ]
  },
  {
   "cell_type": "code",
   "execution_count": null,
   "metadata": {
    "execution": {
     "iopub.execute_input": "2022-12-29T21:57:11.64323Z",
     "iopub.status.busy": "2022-12-29T21:57:11.641842Z",
     "iopub.status.idle": "2022-12-29T21:57:11.652292Z",
     "shell.execute_reply": "2022-12-29T21:57:11.650189Z",
     "shell.execute_reply.started": "2022-12-29T21:57:11.643136Z"
    }
   },
   "outputs": [],
   "source": [
    "# Modifing in a list\n",
    "sea_creatures[0] = 'octopus'\n",
    "# Let's check\n",
    "print(sea_creatures)"
   ]
  },
  {
   "cell_type": "code",
   "execution_count": null,
   "metadata": {
    "execution": {
     "iopub.execute_input": "2022-12-29T21:57:12.278549Z",
     "iopub.status.busy": "2022-12-29T21:57:12.277522Z",
     "iopub.status.idle": "2022-12-29T21:57:12.286419Z",
     "shell.execute_reply": "2022-12-29T21:57:12.284596Z",
     "shell.execute_reply.started": "2022-12-29T21:57:12.278499Z"
    }
   },
   "outputs": [],
   "source": [
    "# Slicing \n",
    "print(sea_creatures[:3])"
   ]
  },
  {
   "cell_type": "code",
   "execution_count": null,
   "metadata": {
    "execution": {
     "iopub.execute_input": "2022-12-29T21:57:12.472064Z",
     "iopub.status.busy": "2022-12-29T21:57:12.471637Z",
     "iopub.status.idle": "2022-12-29T21:57:12.4793Z",
     "shell.execute_reply": "2022-12-29T21:57:12.477939Z",
     "shell.execute_reply.started": "2022-12-29T21:57:12.472033Z"
    }
   },
   "outputs": [],
   "source": [
    "# Strid\n",
    "numbers = [0, 1, 2, 3, 4, 5, 6, 7, 8, 9, 10, 11, 12]\n",
    "print(numbers[1:11:2])"
   ]
  },
  {
   "cell_type": "code",
   "execution_count": null,
   "metadata": {
    "execution": {
     "iopub.execute_input": "2022-12-29T21:57:12.639907Z",
     "iopub.status.busy": "2022-12-29T21:57:12.638419Z",
     "iopub.status.idle": "2022-12-29T21:57:12.646395Z",
     "shell.execute_reply": "2022-12-29T21:57:12.64532Z",
     "shell.execute_reply.started": "2022-12-29T21:57:12.639854Z"
    }
   },
   "outputs": [],
   "source": [
    "# we can omit the first two parameters\n",
    "print(numbers[::2])"
   ]
  },
  {
   "cell_type": "markdown",
   "metadata": {},
   "source": [
    "## Concatination in lists"
   ]
  },
  {
   "cell_type": "code",
   "execution_count": null,
   "metadata": {
    "execution": {
     "iopub.execute_input": "2022-12-29T21:57:12.955527Z",
     "iopub.status.busy": "2022-12-29T21:57:12.954094Z",
     "iopub.status.idle": "2022-12-29T21:57:12.971319Z",
     "shell.execute_reply": "2022-12-29T21:57:12.96976Z",
     "shell.execute_reply.started": "2022-12-29T21:57:12.955469Z"
    }
   },
   "outputs": [],
   "source": [
    "# Lists can be added\n",
    "sea_creatures = ['shark', 'octopus', 'blobfish', 'mantis shrimp', 'anemone']\n",
    "oceans = ['Pacific', 'Atlantic', 'Indian', 'Southern', 'Arctic']\n",
    "print(sea_creatures + oceans)\n",
    "print('length of sea_creatures : ', len(sea_creatures))\n",
    "print('length of oceans : ', len(oceans))\n",
    "print('length of summation : ', len(sea_creatures + oceans))"
   ]
  },
  {
   "cell_type": "code",
   "execution_count": null,
   "metadata": {
    "execution": {
     "iopub.execute_input": "2022-12-29T21:57:13.888052Z",
     "iopub.status.busy": "2022-12-29T21:57:13.887047Z",
     "iopub.status.idle": "2022-12-29T21:57:13.896001Z",
     "shell.execute_reply": "2022-12-29T21:57:13.894805Z",
     "shell.execute_reply.started": "2022-12-29T21:57:13.888001Z"
    }
   },
   "outputs": [],
   "source": [
    "# Lists can be multiplied\n",
    "multiplication = 2 * sea_creatures\n",
    "print(len(multiplication))\n",
    "print(multiplication)"
   ]
  },
  {
   "cell_type": "code",
   "execution_count": null,
   "metadata": {
    "execution": {
     "iopub.execute_input": "2022-12-29T21:57:14.064955Z",
     "iopub.status.busy": "2022-12-29T21:57:14.064145Z",
     "iopub.status.idle": "2022-12-29T21:57:14.070162Z",
     "shell.execute_reply": "2022-12-29T21:57:14.069153Z",
     "shell.execute_reply.started": "2022-12-29T21:57:14.064914Z"
    }
   },
   "outputs": [],
   "source": [
    "# Removing item from list\n",
    "del sea_creatures[0]\n",
    "# check the list\n",
    "print(sea_creatures)"
   ]
  },
  {
   "cell_type": "code",
   "execution_count": null,
   "metadata": {
    "execution": {
     "iopub.execute_input": "2022-12-29T21:57:14.224046Z",
     "iopub.status.busy": "2022-12-29T21:57:14.223281Z",
     "iopub.status.idle": "2022-12-29T21:57:14.230036Z",
     "shell.execute_reply": "2022-12-29T21:57:14.228736Z",
     "shell.execute_reply.started": "2022-12-29T21:57:14.224006Z"
    }
   },
   "outputs": [],
   "source": [
    "# What if we know the element not its index\n",
    "sea_creatures.remove('anemone')\n",
    "# Check the list again\n",
    "print(sea_creatures)"
   ]
  },
  {
   "cell_type": "markdown",
   "metadata": {},
   "source": [
    "Also, one of the most powerful things about lists is that they are accepting mixed datatypes which means one list can contain `int`, `float`, `str`, etc.. at the same time. "
   ]
  },
  {
   "cell_type": "code",
   "execution_count": null,
   "metadata": {
    "execution": {
     "iopub.execute_input": "2022-12-29T21:57:14.565238Z",
     "iopub.status.busy": "2022-12-29T21:57:14.564297Z",
     "iopub.status.idle": "2022-12-29T21:57:14.57357Z",
     "shell.execute_reply": "2022-12-29T21:57:14.572165Z",
     "shell.execute_reply.started": "2022-12-29T21:57:14.565189Z"
    }
   },
   "outputs": [],
   "source": [
    "# Lists can contain different data types\n",
    "mixed = ['Data', 23, 'Management']\n",
    "print(mixed)\n",
    "print(type(mixed[0]))\n",
    "print(type(mixed[1]))"
   ]
  },
  {
   "cell_type": "code",
   "execution_count": null,
   "metadata": {
    "execution": {
     "iopub.execute_input": "2022-12-29T21:57:14.75072Z",
     "iopub.status.busy": "2022-12-29T21:57:14.750282Z",
     "iopub.status.idle": "2022-12-29T21:57:14.759386Z",
     "shell.execute_reply": "2022-12-29T21:57:14.757854Z",
     "shell.execute_reply.started": "2022-12-29T21:57:14.750688Z"
    }
   },
   "outputs": [],
   "source": [
    "# List can contain othe lists!\n",
    "list_of_lists = [['Data', 'Science', 'is', 'fun'], ['Python', 'is', 'powerful']]\n",
    "print('No. of elements in list_of_lists : ', len(list_of_lists))\n",
    "print('No. of elements in the first one : ', len(list_of_lists[0]))\n",
    "print('No. of elements in the second one : ', len(list_of_lists[1]))"
   ]
  },
  {
   "cell_type": "code",
   "execution_count": null,
   "metadata": {
    "execution": {
     "iopub.execute_input": "2022-12-29T21:57:14.91002Z",
     "iopub.status.busy": "2022-12-29T21:57:14.90922Z",
     "iopub.status.idle": "2022-12-29T21:57:14.918814Z",
     "shell.execute_reply": "2022-12-29T21:57:14.917522Z",
     "shell.execute_reply.started": "2022-12-29T21:57:14.909983Z"
    }
   },
   "outputs": [],
   "source": [
    "# Indexing \n",
    "print('Data out of list_of_lists : ', list_of_lists[0][0])\n",
    "print('powerful out of list_of_lists : ', list_of_lists[1][-1])"
   ]
  },
  {
   "cell_type": "code",
   "execution_count": null,
   "metadata": {
    "execution": {
     "iopub.execute_input": "2022-12-29T21:57:15.072378Z",
     "iopub.status.busy": "2022-12-29T21:57:15.071883Z",
     "iopub.status.idle": "2022-12-29T21:57:15.079657Z",
     "shell.execute_reply": "2022-12-29T21:57:15.078201Z",
     "shell.execute_reply.started": "2022-12-29T21:57:15.072341Z"
    }
   },
   "outputs": [],
   "source": [
    "# add values to a list\n",
    "list_of_lists.append('The added element')\n",
    "print('check for the added element : ', list_of_lists)"
   ]
  },
  {
   "cell_type": "markdown",
   "metadata": {},
   "source": [
    "Speaking about strings and lists, any `str` variable can be converted to `list` using `.split()` method. Also, keep in mind that converting `str` to `list` is a huge privilage as lists are prefect for looping. This will be demonstated in later lessons. "
   ]
  },
  {
   "cell_type": "code",
   "execution_count": null,
   "metadata": {
    "execution": {
     "iopub.execute_input": "2022-12-29T21:57:15.448665Z",
     "iopub.status.busy": "2022-12-29T21:57:15.448229Z",
     "iopub.status.idle": "2022-12-29T21:57:15.456877Z",
     "shell.execute_reply": "2022-12-29T21:57:15.45532Z",
     "shell.execute_reply.started": "2022-12-29T21:57:15.448632Z"
    }
   },
   "outputs": [],
   "source": [
    "# Convert a text to list \n",
    "# =====================\n",
    "# Suppose you have a text and want to make every word as an element of a list for some further processing \n",
    "text = \"Python is a very powerful programming languge. You can make almost any application you want with python\"\n",
    "print('text : ', text)\n",
    "print()\n",
    "print('type of text : ', type(text))\n",
    "print()\n",
    "# split() method --> make a split into a text on a desired separator\n",
    "text_list = text.split()\n",
    "print('text_list : ', text_list)\n",
    "print()\n",
    "print('type of text_list : ', type(text_list))"
   ]
  },
  {
   "cell_type": "markdown",
   "metadata": {},
   "source": [
    "# Dictionaries\n",
    "\n",
    "Dictionaries are used to store data values in key:value pairs.\n",
    "\n",
    "A dictionary is a collection which is ordered, changeable and do not allow duplicates in keys. "
   ]
  },
  {
   "cell_type": "code",
   "execution_count": null,
   "metadata": {
    "execution": {
     "iopub.execute_input": "2022-12-29T21:57:15.854913Z",
     "iopub.status.busy": "2022-12-29T21:57:15.854266Z",
     "iopub.status.idle": "2022-12-29T21:57:15.864619Z",
     "shell.execute_reply": "2022-12-29T21:57:15.862643Z",
     "shell.execute_reply.started": "2022-12-29T21:57:15.854865Z"
    }
   },
   "outputs": [],
   "source": [
    "# empty dictionary\n",
    "my_empty_dict = {}\n",
    "print('empty list : ', my_empty_dict)\n",
    "\n",
    "# dictionary with integer keys\n",
    "my_int_dict = {1: 'apple', 2: 'ball'}\n",
    "print('dict with integer keys : ', my_int_dict)\n",
    "\n",
    "# check the length of my_int_dict \n",
    "print('lenght of my_int_dict : ', len(my_int_dict))\n",
    "\n",
    "# dictionary with mixed keys\n",
    "my_mixed_dict = {'name': 'John', 1: [2, 4, 3]}\n",
    "print('dict with mixed keys and values : ', my_mixed_dict)\n",
    "\n",
    "# another way to define a dict\n",
    "my_new_dict = dict({1:'apple', 2:'ball'})\n",
    "print('New way of defining list : ', my_new_dict)\n",
    "\n",
    "# from sequence having each item as a pair\n",
    "my_sequence_dict = dict([(1,'apple'), (2,'ball')])\n",
    "print('Sequence dict : ', my_sequence_dict)"
   ]
  },
  {
   "cell_type": "markdown",
   "metadata": {},
   "source": [
    "###### Dictionary Default form\n",
    "```\n",
    "mydict = {\n",
    "'k1' : 'v1', \n",
    "'k2' : 'v2', \n",
    "'k3' : 'v3'\n",
    "}\n",
    "```"
   ]
  },
  {
   "cell_type": "code",
   "execution_count": null,
   "metadata": {
    "execution": {
     "iopub.execute_input": "2022-12-29T21:57:16.25463Z",
     "iopub.status.busy": "2022-12-29T21:57:16.254153Z",
     "iopub.status.idle": "2022-12-29T21:57:16.262436Z",
     "shell.execute_reply": "2022-12-29T21:57:16.260581Z",
     "shell.execute_reply.started": "2022-12-29T21:57:16.254592Z"
    }
   },
   "outputs": [],
   "source": [
    "# name and length dict\n",
    "name_length = {\n",
    "    'ahmed' : 170,\n",
    "    'hossam': 176,\n",
    "    'nada'  : 160, \n",
    "    'bassam': 180\n",
    "}\n",
    "print('name_length : ', name_length)\n",
    "\n",
    "# check datatype\n",
    "print('The type of name_length : ', type(name_length))"
   ]
  },
  {
   "cell_type": "markdown",
   "metadata": {},
   "source": [
    "Unlike strings and lists, Dictionaries do not allow indexing because they are meant to be querable. "
   ]
  },
  {
   "cell_type": "code",
   "execution_count": null,
   "metadata": {
    "execution": {
     "iopub.execute_input": "2022-12-29T21:57:16.644383Z",
     "iopub.status.busy": "2022-12-29T21:57:16.642802Z",
     "iopub.status.idle": "2022-12-29T21:57:16.650824Z",
     "shell.execute_reply": "2022-12-29T21:57:16.649532Z",
     "shell.execute_reply.started": "2022-12-29T21:57:16.644333Z"
    }
   },
   "outputs": [],
   "source": [
    "# Indexing in dictionaries must be done by key\n",
    "print('the length of ahmed : ', name_length['ahmed'])\n",
    "print('the length of nada : ', name_length['nada'])"
   ]
  },
  {
   "cell_type": "code",
   "execution_count": null,
   "metadata": {
    "execution": {
     "iopub.execute_input": "2022-12-29T21:57:16.843564Z",
     "iopub.status.busy": "2022-12-29T21:57:16.842567Z",
     "iopub.status.idle": "2022-12-29T21:57:16.930609Z",
     "shell.execute_reply": "2022-12-29T21:57:16.929059Z",
     "shell.execute_reply.started": "2022-12-29T21:57:16.843465Z"
    }
   },
   "outputs": [],
   "source": [
    "# try accessing a key whick does not exist\n",
    "print('the lenght of mostafa : ', name_length['mostafa'])"
   ]
  },
  {
   "cell_type": "code",
   "execution_count": null,
   "metadata": {
    "execution": {
     "iopub.execute_input": "2022-12-29T21:57:17.049541Z",
     "iopub.status.busy": "2022-12-29T21:57:17.048112Z",
     "iopub.status.idle": "2022-12-29T21:57:17.05715Z",
     "shell.execute_reply": "2022-12-29T21:57:17.055942Z",
     "shell.execute_reply.started": "2022-12-29T21:57:17.04949Z"
    }
   },
   "outputs": [],
   "source": [
    "# How to add elements to a dict \n",
    "name_length['samir'] = 190\n",
    "# check if samir was added\n",
    "print('name_length : ', name_length)\n",
    "# what if we try to add to an existing key\n",
    "name_length['ahmed'] = 150\n",
    "# check the value of ahmed\n",
    "print('check for ahmed : ', name_length)"
   ]
  },
  {
   "cell_type": "code",
   "execution_count": null,
   "metadata": {
    "execution": {
     "iopub.execute_input": "2022-12-29T21:57:17.280056Z",
     "iopub.status.busy": "2022-12-29T21:57:17.278774Z",
     "iopub.status.idle": "2022-12-29T21:57:17.292494Z",
     "shell.execute_reply": "2022-12-29T21:57:17.291023Z",
     "shell.execute_reply.started": "2022-12-29T21:57:17.279998Z"
    }
   },
   "outputs": [],
   "source": [
    "# List can contain lists and dicts also\n",
    "person = {}\n",
    "print('the type of person : ', type(person))\n",
    "\n",
    "person['fname'] = 'Joe'\n",
    "person['lname'] = 'Fonebone'\n",
    "person['age'] = 51\n",
    "person['spouse'] = 'Edna'\n",
    "person['children'] = ['Ralph', 'Betty', 'Joey']\n",
    "person['pets'] = {'dog': 'Fido', 'cat': 'Sox'}\n",
    "\n",
    "print('person dict : ', person)"
   ]
  },
  {
   "cell_type": "code",
   "execution_count": null,
   "metadata": {
    "execution": {
     "iopub.execute_input": "2022-12-29T21:57:17.507268Z",
     "iopub.status.busy": "2022-12-29T21:57:17.506431Z",
     "iopub.status.idle": "2022-12-29T21:57:17.51601Z",
     "shell.execute_reply": "2022-12-29T21:57:17.514457Z",
     "shell.execute_reply.started": "2022-12-29T21:57:17.507212Z"
    }
   },
   "outputs": [],
   "source": [
    "# how to get this person spouse name \n",
    "print('spouse name : ', person['spouse'])\n",
    "# the name of his last child \n",
    "print('name of last child : ', person['children'][-1])\n",
    "# his cat name ?\n",
    "### Write your code down\n",
    "print(person['pets']['cat'])"
   ]
  },
  {
   "cell_type": "code",
   "execution_count": null,
   "metadata": {
    "execution": {
     "iopub.execute_input": "2022-12-29T21:57:17.749812Z",
     "iopub.status.busy": "2022-12-29T21:57:17.749308Z",
     "iopub.status.idle": "2022-12-29T21:57:17.75727Z",
     "shell.execute_reply": "2022-12-29T21:57:17.75587Z",
     "shell.execute_reply.started": "2022-12-29T21:57:17.749772Z"
    }
   },
   "outputs": [],
   "source": [
    "# Integers as keys and list-like indexing\n",
    "foo = {42: 'aaa', 2.78: 'bbb', True: 'ccc'}\n",
    "# to print 'aaa'\n",
    "print('aaa : ', foo[42])\n",
    "# to print 'bbb'\n",
    "print('bbb : ', foo[2.78])"
   ]
  },
  {
   "cell_type": "markdown",
   "metadata": {},
   "source": [
    "Accessing keys and values in dicts are done using two methods `.values()` and `.keys()`"
   ]
  },
  {
   "cell_type": "code",
   "execution_count": null,
   "metadata": {
    "execution": {
     "iopub.execute_input": "2022-12-29T21:57:18.186379Z",
     "iopub.status.busy": "2022-12-29T21:57:18.185148Z",
     "iopub.status.idle": "2022-12-29T21:57:18.200057Z",
     "shell.execute_reply": "2022-12-29T21:57:18.198539Z",
     "shell.execute_reply.started": "2022-12-29T21:57:18.186316Z"
    }
   },
   "outputs": [],
   "source": [
    "MLB_team = {\n",
    "'Colorado' : 'Rockies',\n",
    "'Boston'   : 'Red Sox',\n",
    "'Minnesota': 'Twins',\n",
    "'Milwaukee': 'Brewers',\n",
    "'Seattle'  : 'Mariners'\n",
    " }\n",
    "\n",
    "# to access the keys of MLB_team\n",
    "print('keys are : ', MLB_team.keys())\n",
    "print()\n",
    "# What is the type of .keys object \n",
    "print ('type of keys object is : ', type(MLB_team.keys()))\n",
    "print()\n",
    "# this can be easily converted to list \n",
    "keys_list = list(MLB_team)\n",
    "print()\n",
    "# Let's check \n",
    "print('keys_list : ', keys_list)\n",
    "print()\n",
    "# Check the type \n",
    "print('keys_list type : ',type(keys_list))\n",
    "print()\n",
    "# to access the values of MLB_team\n",
    "print('values are : ', MLB_team.values())\n",
    "print()\n",
    "# the type of .values object\n",
    "print('type of values object is : ', type(MLB_team.values()))\n",
    "print()\n",
    "# Let's convert it to list \n",
    "values_list = list(MLB_team.values())\n",
    "print()\n",
    "# Check the list \n",
    "print('values_list : ', values_list)\n",
    "print()\n",
    "# check the type\n",
    "print('the type of values_list : ', type(values_list))\n",
    "print()"
   ]
  },
  {
   "cell_type": "markdown",
   "metadata": {},
   "source": [
    "The idea of merging two lists into one dict is very familiar and common in the data analysis tasks. For sure, the two lists needs two be of the same length. `zip()` function can help in this task. Let's see the following example."
   ]
  },
  {
   "cell_type": "code",
   "execution_count": null,
   "metadata": {
    "execution": {
     "iopub.execute_input": "2022-12-29T21:57:18.624907Z",
     "iopub.status.busy": "2022-12-29T21:57:18.624103Z",
     "iopub.status.idle": "2022-12-29T21:57:18.634891Z",
     "shell.execute_reply": "2022-12-29T21:57:18.633192Z",
     "shell.execute_reply.started": "2022-12-29T21:57:18.624859Z"
    }
   },
   "outputs": [],
   "source": [
    "# initializing lists \n",
    "name = [ \"Manjeet\", \"Nikhil\", \"Shambhavi\", \"Astha\" ] \n",
    "marks = [ 40, 50, 60, 70 ] \n",
    "\n",
    "# using zip() to map values \n",
    "mapped = zip(name, marks) \n",
    "\n",
    "# Let's print the zipped object \n",
    "print('zipped_object : ', mapped)           # zipped object cannot be printed\n",
    "\n",
    "# converting values to print as list \n",
    "mapped_converted = list(mapped) \n",
    "\n",
    "# printing resultant values \n",
    "print ('List from object : ', mapped_converted) \n",
    "\n",
    "# How to unzip 'mapped_converted'\n",
    "name_zipped, marks_zipped = zip(*mapped_converted)\n",
    "\n",
    "# name_zipped \n",
    "print('name_zipped : ', name_zipped)\n",
    "\n",
    "# marks_zipped \n",
    "print('marks_zipped : ', marks_zipped)"
   ]
  },
  {
   "cell_type": "markdown",
   "metadata": {},
   "source": [
    "A lot of ideas between lists and dicts can be acheived using `.keys()`, `.values()`, and `zip()` fucntions. The simplest one is dict reversion which means converting keys to values and vice versa. The importance of such operations will rise in future topics.\n",
    "\n",
    "Let's see the following example: "
   ]
  },
  {
   "cell_type": "code",
   "execution_count": null,
   "metadata": {
    "execution": {
     "iopub.execute_input": "2022-12-29T21:57:19.055616Z",
     "iopub.status.busy": "2022-12-29T21:57:19.054826Z",
     "iopub.status.idle": "2022-12-29T21:57:19.065523Z",
     "shell.execute_reply": "2022-12-29T21:57:19.064035Z",
     "shell.execute_reply.started": "2022-12-29T21:57:19.055565Z"
    },
    "tags": []
   },
   "outputs": [],
   "source": [
    "# How to use this concept to create dict from lists\n",
    "# Calling MLB_team dict \n",
    "print('MLB_team : ', MLB_team)\n",
    "\n",
    "# combining keys, values and zip to create a dict \n",
    "new_MLB_team = dict(zip(list(MLB_team.keys()) , list(MLB_team.values()) ))\n",
    "\n",
    "# check the new dict contents\n",
    "print('new_MLB_team : ', new_MLB_team)\n",
    "\n",
    "# check if the new and old dict are the same\n",
    "print('True if same : ', MLB_team == new_MLB_team)\n",
    "\n",
    "# Use the same concept to create reversed version of MLB_team \n",
    "# keys of the old one in place of the values of the new one \n",
    "# and vice-versa\n",
    "\n",
    "reversed_MLB_team = dict(zip(list(MLB_team.values()), list(MLB_team.keys())  )) # write your own code\n",
    "\n",
    "print(reversed_MLB_team)"
   ]
  },
  {
   "cell_type": "markdown",
   "metadata": {},
   "source": [
    "There are some methods associated with dicts such as:\n",
    "\n",
    "- Operators with dicts.\n",
    "- `clear()`\n",
    "- `get()`\n",
    "\n",
    "Let's see some few examples."
   ]
  },
  {
   "cell_type": "code",
   "execution_count": null,
   "metadata": {
    "execution": {
     "iopub.execute_input": "2022-12-29T21:57:19.476271Z",
     "iopub.status.busy": "2022-12-29T21:57:19.475774Z",
     "iopub.status.idle": "2022-12-29T21:57:19.500981Z",
     "shell.execute_reply": "2022-12-29T21:57:19.499522Z",
     "shell.execute_reply.started": "2022-12-29T21:57:19.476235Z"
    }
   },
   "outputs": [],
   "source": [
    "# Operators with dicts\n",
    "print(\"Is 'Colorado' in MLB_team? : \", 'Colorado' in MLB_team) #NOTE : it searches only in the keys\n",
    "print(\"Is 'Cairo' in MLB_team? : \", 'Cairo' in MLB_team)\n",
    "\n",
    "# clear() method --> empties the dict\n",
    "# MLB_team.clear()\n",
    "print('contents of MLB_team after clear : ', MLB_team)\n",
    "\n",
    "# get() method --> gets the value of a specific key\n",
    "print(\"The value of 'Boston' [get method]: \", new_MLB_team.get('Boston'))\n",
    "print(\"The value of 'Cairo' [get method] : \", new_MLB_team.get('Cairo'))\n",
    "# The difference between getting the value of a specific key by get() method and just calling the key is that\n",
    "# calling a not existing key will throw an error\n",
    "print(\"The value of 'Boston' [by key] : \", new_MLB_team['Boston'])\n",
    "print(\"The value of 'Cairo' [by key] : \", new_MLB_team['Cairo'])"
   ]
  },
  {
   "cell_type": "code",
   "execution_count": null,
   "metadata": {
    "execution": {
     "iopub.execute_input": "2022-12-29T21:57:19.692287Z",
     "iopub.status.busy": "2022-12-29T21:57:19.690767Z",
     "iopub.status.idle": "2022-12-29T21:57:19.699454Z",
     "shell.execute_reply": "2022-12-29T21:57:19.697783Z",
     "shell.execute_reply.started": "2022-12-29T21:57:19.692228Z"
    }
   },
   "outputs": [],
   "source": [
    "# pop() method --> returns the value associated with a specific key and then removes it\n",
    "\n",
    "print(\"The value of 'Rockies' : \", new_MLB_team.pop('Colorado'))\n",
    "print()\n",
    "# Check the contents of new_MLB_team again\n",
    "print('new_MLB_team : ', new_MLB_team)"
   ]
  },
  {
   "cell_type": "code",
   "execution_count": null,
   "metadata": {
    "execution": {
     "iopub.execute_input": "2022-12-29T21:57:19.915047Z",
     "iopub.status.busy": "2022-12-29T21:57:19.913847Z",
     "iopub.status.idle": "2022-12-29T21:57:19.922887Z",
     "shell.execute_reply": "2022-12-29T21:57:19.920725Z",
     "shell.execute_reply.started": "2022-12-29T21:57:19.914981Z"
    }
   },
   "outputs": [],
   "source": [
    "# update() method --> merges two dicts with each other without repeating the keys.\n",
    "d1 = {'a': 10, 'b': 20, 'c': 30}\n",
    "d2 = {'b': 200, 'd': 400}\n",
    "\n",
    "d1.update(d2)\n",
    "print('The new contents of d1 : ', d1)"
   ]
  },
  {
   "cell_type": "markdown",
   "metadata": {},
   "source": [
    "# Tuples\n",
    "\n",
    "Tuples can, as lists, support storing multiple items in a single object. They are orderd, immutable, and allow-duplicates objects. \n",
    "\n",
    "Tuples are much like lists except they are unchangeable. Let's create our first tuples!\n"
   ]
  },
  {
   "cell_type": "code",
   "execution_count": null,
   "metadata": {
    "execution": {
     "iopub.execute_input": "2022-12-29T21:57:20.367465Z",
     "iopub.status.busy": "2022-12-29T21:57:20.365903Z",
     "iopub.status.idle": "2022-12-29T21:57:20.37483Z",
     "shell.execute_reply": "2022-12-29T21:57:20.373569Z",
     "shell.execute_reply.started": "2022-12-29T21:57:20.367402Z"
    }
   },
   "outputs": [],
   "source": [
    "mytuple = ('data', 'is', 'everywhere')\n",
    "print(mytuple)\n",
    "print(type(mytuple))\n",
    "print(len(mytuple))"
   ]
  },
  {
   "cell_type": "markdown",
   "metadata": {},
   "source": [
    "Tuples can allow different datatypes for items!"
   ]
  },
  {
   "cell_type": "code",
   "execution_count": null,
   "metadata": {
    "execution": {
     "iopub.execute_input": "2022-12-29T21:57:21.105743Z",
     "iopub.status.busy": "2022-12-29T21:57:21.105333Z",
     "iopub.status.idle": "2022-12-29T21:57:21.112278Z",
     "shell.execute_reply": "2022-12-29T21:57:21.111329Z",
     "shell.execute_reply.started": "2022-12-29T21:57:21.105712Z"
    }
   },
   "outputs": [],
   "source": [
    "mytuple_1 = (1, True, 'Python is fun')\n",
    "print(mytuple_1)"
   ]
  },
  {
   "cell_type": "markdown",
   "metadata": {},
   "source": [
    "Let's check if they are allowing duplicates. "
   ]
  },
  {
   "cell_type": "code",
   "execution_count": null,
   "metadata": {
    "execution": {
     "iopub.execute_input": "2022-12-29T21:57:21.535107Z",
     "iopub.status.busy": "2022-12-29T21:57:21.534661Z",
     "iopub.status.idle": "2022-12-29T21:57:21.541211Z",
     "shell.execute_reply": "2022-12-29T21:57:21.539863Z",
     "shell.execute_reply.started": "2022-12-29T21:57:21.53506Z"
    }
   },
   "outputs": [],
   "source": [
    "mytuple_2 = ('apple', 'apple', 1, 3, 3, 7)\n",
    "print(mytuple_2)"
   ]
  },
  {
   "cell_type": "markdown",
   "metadata": {},
   "source": [
    "The last similarity of tuples with lists is indexing!"
   ]
  },
  {
   "cell_type": "code",
   "execution_count": null,
   "metadata": {
    "execution": {
     "iopub.execute_input": "2022-12-29T21:57:21.956142Z",
     "iopub.status.busy": "2022-12-29T21:57:21.955658Z",
     "iopub.status.idle": "2022-12-29T21:57:21.963119Z",
     "shell.execute_reply": "2022-12-29T21:57:21.961438Z",
     "shell.execute_reply.started": "2022-12-29T21:57:21.956071Z"
    }
   },
   "outputs": [],
   "source": [
    "print(mytuple)\n",
    "print(mytuple[0])\n",
    "print(mytuple[-1])"
   ]
  },
  {
   "cell_type": "markdown",
   "metadata": {},
   "source": [
    "While working on an analysis task, you will definitly need to convert from dicts to lists or tuples. That's mainly because the mutability restrictions as for example, lists are easy to be modified while dicts are not (You have to know the keys in advance).\n",
    "\n",
    "\n",
    "For those reasons, there are some methods like `.items()` which is used to convert dict into a list of tuples!"
   ]
  },
  {
   "cell_type": "code",
   "execution_count": null,
   "metadata": {
    "execution": {
     "iopub.execute_input": "2022-12-29T21:57:23.343315Z",
     "iopub.status.busy": "2022-12-29T21:57:23.342812Z",
     "iopub.status.idle": "2022-12-29T21:57:23.352183Z",
     "shell.execute_reply": "2022-12-29T21:57:23.350988Z",
     "shell.execute_reply.started": "2022-12-29T21:57:23.343278Z"
    }
   },
   "outputs": [],
   "source": [
    "# items() method --> returns the key value pairs as a tuple\n",
    "print('new_MLB_team items : ', new_MLB_team.items())\n",
    "print()\n",
    "# we can easily convert any dict to a list of tuples to enable list-like indexing\n",
    "list_of_tuples = list(new_MLB_team.items())\n",
    "print('list_of_tuples contents : ', list_of_tuples)\n",
    "print()\n",
    "print('type of list_of_tuples : ', type(list_of_tuples))\n",
    "print()\n",
    "# try list-like indexing \n",
    "print(\"'Twins' out of list_of_tuples : \", list_of_tuples[2][1])\n"
   ]
  },
  {
   "cell_type": "markdown",
   "metadata": {},
   "source": [
    "# Sets\n",
    "\n",
    "Sets are like any other python object, used to combine items in a single object. Sets are like lists in some aspects but they are mainly unordered, unindexed, immutable, and don't allow python object. "
   ]
  },
  {
   "cell_type": "code",
   "execution_count": null,
   "metadata": {
    "execution": {
     "iopub.execute_input": "2022-12-29T21:57:23.729872Z",
     "iopub.status.busy": "2022-12-29T21:57:23.729411Z",
     "iopub.status.idle": "2022-12-29T21:57:23.739429Z",
     "shell.execute_reply": "2022-12-29T21:57:23.737592Z",
     "shell.execute_reply.started": "2022-12-29T21:57:23.729837Z"
    }
   },
   "outputs": [],
   "source": [
    "# set of integers\n",
    "myset = {1, 2, 3}\n",
    "print(myset)\n",
    "print(type(myset))\n",
    "\n",
    "# set of mixed datatypes\n",
    "myset_2 = {1.0, \"Hello\", (1, 2, 3)}\n",
    "print(myset_2)\n",
    "print(type(myset_2))"
   ]
  },
  {
   "cell_type": "code",
   "execution_count": null,
   "metadata": {
    "execution": {
     "iopub.execute_input": "2022-12-29T21:57:23.932493Z",
     "iopub.status.busy": "2022-12-29T21:57:23.932001Z",
     "iopub.status.idle": "2022-12-29T21:57:23.956119Z",
     "shell.execute_reply": "2022-12-29T21:57:23.953846Z",
     "shell.execute_reply.started": "2022-12-29T21:57:23.932457Z"
    }
   },
   "outputs": [],
   "source": [
    "# set do not have duplicates\n",
    "Output: {1, 2, 3, 4}\n",
    "myset_3 = {1,2,3,4,3,2}\n",
    "print(myset_3)\n",
    "\n",
    "# we can make set from a list\n",
    "# Output: {1, 2, 3}\n",
    "myset_4 = set([1,2,3,2])\n",
    "print(myset_4)\n",
    "\n",
    "\n",
    "# set cannot have mutable items\n",
    "# here [3, 4] is a mutable list\n",
    "myset_5 = {1, 2, [3, 4]}\n",
    "print(myset_5)\n",
    "\n"
   ]
  },
  {
   "cell_type": "markdown",
   "metadata": {},
   "source": [
    "How to create an empty set? and how it differs from a creating an empty dict? "
   ]
  },
  {
   "cell_type": "code",
   "execution_count": null,
   "metadata": {
    "execution": {
     "iopub.execute_input": "2022-12-29T21:57:24.305253Z",
     "iopub.status.busy": "2022-12-29T21:57:24.304763Z",
     "iopub.status.idle": "2022-12-29T21:57:24.312872Z",
     "shell.execute_reply": "2022-12-29T21:57:24.311385Z",
     "shell.execute_reply.started": "2022-12-29T21:57:24.305217Z"
    }
   },
   "outputs": [],
   "source": [
    "# initialize a with {}\n",
    "a = {}\n",
    "\n",
    "# check data type of a\n",
    "# Output: <class 'dict'>\n",
    "print(type(a))\n",
    "\n",
    "# initialize a with set()\n",
    "a = set()\n",
    "\n",
    "# check data type of a\n",
    "# Output: <class 'set'>\n",
    "print(type(a))"
   ]
  },
  {
   "cell_type": "markdown",
   "metadata": {},
   "source": [
    "Sets are NOT indexed, unlike lists!"
   ]
  },
  {
   "cell_type": "code",
   "execution_count": null,
   "metadata": {
    "execution": {
     "iopub.execute_input": "2022-12-29T21:57:25.082257Z",
     "iopub.status.busy": "2022-12-29T21:57:25.08179Z",
     "iopub.status.idle": "2022-12-29T21:57:25.105218Z",
     "shell.execute_reply": "2022-12-29T21:57:25.103273Z",
     "shell.execute_reply.started": "2022-12-29T21:57:25.082221Z"
    }
   },
   "outputs": [],
   "source": [
    "# initialize my_set\n",
    "my_set = {1,3}\n",
    "print(my_set)\n",
    "\n",
    "\n",
    "# add an element\n",
    "# Output: {1, 2, 3}\n",
    "my_set.add(2)\n",
    "print(my_set)\n",
    "\n",
    "# add multiple elements\n",
    "# Output: {1, 2, 3, 4}\n",
    "my_set.update([2,3,4])\n",
    "print(my_set)\n",
    "\n",
    "# add list and set\n",
    "# Output: {1, 2, 3, 4, 5, 6, 8}\n",
    "my_set.update([4,5], {1,6,8})\n",
    "print(my_set)\n",
    "\n",
    "\n",
    "# if you uncomment my_set[0] line ,\n",
    "# you will get an error\n",
    "# TypeError: 'set' object does not support indexing\n",
    "\n",
    "my_set[0]"
   ]
  },
  {
   "cell_type": "markdown",
   "metadata": {},
   "source": [
    "How to delete an item from a set? \n",
    "\n",
    "Both `discard()` and `remove()` method are used for deleting items of a set. The only difference between the two is that, while using `discard()` if the item does not exist in the set, it remains unchanged. But `remove()` will raise an error in such condition.\n"
   ]
  },
  {
   "cell_type": "code",
   "execution_count": null,
   "metadata": {
    "execution": {
     "iopub.execute_input": "2022-12-29T21:57:26.448111Z",
     "iopub.status.busy": "2022-12-29T21:57:26.447624Z",
     "iopub.status.idle": "2022-12-29T21:57:26.471321Z",
     "shell.execute_reply": "2022-12-29T21:57:26.470057Z",
     "shell.execute_reply.started": "2022-12-29T21:57:26.448045Z"
    }
   },
   "outputs": [],
   "source": [
    "# initialize my_set\n",
    "my_set = {1, 3, 4, 5, 6}\n",
    "print(my_set)\n",
    "\n",
    "# discard an element\n",
    "# Output: {1, 3, 5, 6}\n",
    "my_set.discard(4)\n",
    "print(my_set)\n",
    "\n",
    "# remove an element\n",
    "# Output: {1, 3, 5}\n",
    "my_set.remove(6)\n",
    "print(my_set)\n",
    "\n",
    "# discard an element\n",
    "# not present in my_set\n",
    "# Output: {1, 3, 5}\n",
    "my_set.discard(2)\n",
    "print(my_set)\n",
    "\n",
    "# remove an element\n",
    "# not present in my_set\n",
    "# If you uncomment my_set.remove line,\n",
    "# you will get an error.\n",
    "# Output: KeyError: 2\n",
    "\n",
    "my_set.remove(2)"
   ]
  },
  {
   "cell_type": "markdown",
   "metadata": {},
   "source": [
    "The beauty of `Sets` is getting brighter when used with function such as `union()` and `insersion()`."
   ]
  },
  {
   "cell_type": "code",
   "execution_count": null,
   "metadata": {
    "execution": {
     "iopub.execute_input": "2022-12-29T21:57:33.16669Z",
     "iopub.status.busy": "2022-12-29T21:57:33.166137Z",
     "iopub.status.idle": "2022-12-29T21:57:33.174346Z",
     "shell.execute_reply": "2022-12-29T21:57:33.17294Z",
     "shell.execute_reply.started": "2022-12-29T21:57:33.166652Z"
    }
   },
   "outputs": [],
   "source": [
    "# union() method or | operator --> finds the union between two sets\n",
    "\n",
    "# initialize A and B\n",
    "A = {1, 2, 3, 4, 5}\n",
    "B = {4, 5, 6, 7, 8}\n",
    "\n",
    "# use | operator\n",
    "# Output: {1, 2, 3, 4, 5, 6, 7, 8}\n",
    "print(A | B)"
   ]
  },
  {
   "cell_type": "code",
   "execution_count": null,
   "metadata": {
    "execution": {
     "iopub.execute_input": "2022-12-29T21:57:33.955352Z",
     "iopub.status.busy": "2022-12-29T21:57:33.954177Z",
     "iopub.status.idle": "2022-12-29T21:57:33.962067Z",
     "shell.execute_reply": "2022-12-29T21:57:33.960729Z",
     "shell.execute_reply.started": "2022-12-29T21:57:33.955313Z"
    }
   },
   "outputs": [],
   "source": [
    "# to update A or B\n",
    "\n",
    "# use union function\n",
    "print(A.union(B))\n",
    "# {1, 2, 3, 4, 5, 6, 7, 8}\n",
    "print(A) # the elements of A will not be changed\n",
    "# use union function on B\n",
    "print(B.union(A))\n",
    "# {1, 2, 3, 4, 5, 6, 7, 8}"
   ]
  },
  {
   "cell_type": "code",
   "execution_count": null,
   "metadata": {
    "execution": {
     "iopub.execute_input": "2022-12-29T21:57:34.702028Z",
     "iopub.status.busy": "2022-12-29T21:57:34.701302Z",
     "iopub.status.idle": "2022-12-29T21:57:34.710095Z",
     "shell.execute_reply": "2022-12-29T21:57:34.708202Z",
     "shell.execute_reply.started": "2022-12-29T21:57:34.701988Z"
    }
   },
   "outputs": [],
   "source": [
    "# insersion() method or & operator\n",
    "\n",
    "# initialize A and B\n",
    "A = {1, 2, 3, 4, 5}\n",
    "B = {4, 5, 6, 7, 8}\n",
    "\n",
    "# use & operator\n",
    "# Output: {4, 5}\n",
    "print(A & B)"
   ]
  },
  {
   "cell_type": "code",
   "execution_count": null,
   "metadata": {
    "execution": {
     "iopub.execute_input": "2022-12-29T21:57:35.249826Z",
     "iopub.status.busy": "2022-12-29T21:57:35.249349Z",
     "iopub.status.idle": "2022-12-29T21:57:35.256898Z",
     "shell.execute_reply": "2022-12-29T21:57:35.255581Z",
     "shell.execute_reply.started": "2022-12-29T21:57:35.249791Z"
    }
   },
   "outputs": [],
   "source": [
    "# use intersection function on A\n",
    "print(A.intersection(B))\n",
    "# {4, 5}\n",
    "# use intersection function on B\n",
    "print(B.intersection(A))\n",
    "# {4, 5}"
   ]
  },
  {
   "cell_type": "markdown",
   "metadata": {},
   "source": [
    "This notebook is part of my `Python for Data Analysis` course. If you find it useful, you can upvote! Also, you can follow me on [LinkedIn](https://www.linkedin.com/in/aaabulkhair/) and [Twitter](https://twitter.com/aaabulkhair_). \n",
    "\n",
    "Below is the contents of the whole course: \n",
    "1. [Introduction to Python](https://www.kaggle.com/code/ahmedabdulhamid/1-introduction-to-python), This Notebook.\n",
    "2. [Iterative Operations & Functions in Python](https://www.kaggle.com/code/ahmedabdulhamid/2-iterative-operations-functions-in-python)\n",
    "3. [Introduction to NumPy](https://www.kaggle.com/code/ahmedabdulhamid/3-introduction-to-numpy/)\n",
    "4. [Data Transformation using Pandas](https://www.kaggle.com/ahmedabdulhamid/4-data-transformation-using-pandas/)"
   ]
  }
 ],
 "metadata": {
  "kaggle": {
   "accelerator": "none",
   "dataSources": [],
   "dockerImageVersionId": 30301,
   "isGpuEnabled": false,
   "isInternetEnabled": true,
   "language": "python",
   "sourceType": "notebook"
  },
  "kernelspec": {
   "display_name": "Python [conda env:base] *",
   "language": "python",
   "name": "conda-base-py"
  },
  "language_info": {
   "codemirror_mode": {
    "name": "ipython",
    "version": 3
   },
   "file_extension": ".py",
   "mimetype": "text/x-python",
   "name": "python",
   "nbconvert_exporter": "python",
   "pygments_lexer": "ipython3",
   "version": "3.12.7"
  }
 },
 "nbformat": 4,
 "nbformat_minor": 4
}
