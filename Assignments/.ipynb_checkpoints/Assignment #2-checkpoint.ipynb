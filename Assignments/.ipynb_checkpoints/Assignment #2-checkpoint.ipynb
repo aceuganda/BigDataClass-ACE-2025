{
 "cells": [
  {
   "cell_type": "markdown",
   "metadata": {},
   "source": [
    "## Numpy Assignment 2\n",
    "\n",
    "- Student Name: James Bumba\n",
    "- Student RegNo: 2020/HD07/3230\n",
    "\n",
    "### Instructions\n",
    "- Please answer the exercises to the best of your knowledge.\n",
    "- The assignment is out of 10 marks and will contribute partially to your final result."
   ]
  },
  {
   "cell_type": "code",
   "execution_count": 1,
   "metadata": {},
   "outputs": [],
   "source": [
    "import numpy as np\n",
    "import pandas as pd\n",
    "import seaborn as sns\n",
    "titanic = sns.load_dataset('titanic')"
   ]
  },
  {
   "cell_type": "code",
   "execution_count": 2,
   "metadata": {},
   "outputs": [],
   "source": [
    "\n",
    "#A function that creates a random dataset\n",
    "# with numerical and categorical features\n",
    "def create_dataset(n_samples, n_features, n_classes):\n",
    "    #set the seed\n",
    "    np.random.seed(42)\n",
    "    X = np.random.randn(n_samples, n_features)\n",
    "    y = np.random.randint(0, n_classes, n_samples)\n",
    "    #combing the numerical and categorical features\n",
    "    z = np.hstack((X, y.reshape(-1, 1)))\n",
    "    # add random column names to the dataset\n",
    "    z = pd.DataFrame(z, columns=['col' + str(i) for i in range(n_features + 1)])\n",
    "    # add a column with random strings combinations\n",
    "    z['string'] = np.random.choice(['a', 'b', 'c', 'd', 'e', 'f', 'g', 'h', 'i', 'j', 'k', 'l', 'm', 'n', 'o', 'p', 'q', 'r', 's', 't', 'u', 'v', 'w', 'x', 'y', 'z'], n_samples)\n",
    "    # return the dataset\n",
    "    return z"
   ]
  },
  {
   "cell_type": "code",
   "execution_count": 3,
   "metadata": {},
   "outputs": [],
   "source": [
    "#use the function above to create a dataframe.\n",
    "df = create_dataset(50,5,2)"
   ]
  },
  {
   "cell_type": "code",
   "execution_count": null,
   "metadata": {},
   "outputs": [],
   "source": [
    "#check the dimensions of the data\n",
    "df.shape"
   ]
  },
  {
   "cell_type": "code",
   "execution_count": 4,
   "metadata": {},
   "outputs": [
    {
     "data": {
      "text/html": [
       "<div>\n",
       "<style scoped>\n",
       "    .dataframe tbody tr th:only-of-type {\n",
       "        vertical-align: middle;\n",
       "    }\n",
       "\n",
       "    .dataframe tbody tr th {\n",
       "        vertical-align: top;\n",
       "    }\n",
       "\n",
       "    .dataframe thead th {\n",
       "        text-align: right;\n",
       "    }\n",
       "</style>\n",
       "<table border=\"1\" class=\"dataframe\">\n",
       "  <thead>\n",
       "    <tr style=\"text-align: right;\">\n",
       "      <th></th>\n",
       "      <th>col0</th>\n",
       "      <th>col1</th>\n",
       "      <th>col2</th>\n",
       "      <th>col3</th>\n",
       "      <th>col4</th>\n",
       "      <th>col5</th>\n",
       "      <th>string</th>\n",
       "    </tr>\n",
       "  </thead>\n",
       "  <tbody>\n",
       "    <tr>\n",
       "      <th>0</th>\n",
       "      <td>0.496714</td>\n",
       "      <td>-0.138264</td>\n",
       "      <td>0.647689</td>\n",
       "      <td>1.523030</td>\n",
       "      <td>-0.234153</td>\n",
       "      <td>1.0</td>\n",
       "      <td>b</td>\n",
       "    </tr>\n",
       "    <tr>\n",
       "      <th>1</th>\n",
       "      <td>-0.234137</td>\n",
       "      <td>1.579213</td>\n",
       "      <td>0.767435</td>\n",
       "      <td>-0.469474</td>\n",
       "      <td>0.542560</td>\n",
       "      <td>0.0</td>\n",
       "      <td>t</td>\n",
       "    </tr>\n",
       "    <tr>\n",
       "      <th>2</th>\n",
       "      <td>-0.463418</td>\n",
       "      <td>-0.465730</td>\n",
       "      <td>0.241962</td>\n",
       "      <td>-1.913280</td>\n",
       "      <td>-1.724918</td>\n",
       "      <td>0.0</td>\n",
       "      <td>j</td>\n",
       "    </tr>\n",
       "    <tr>\n",
       "      <th>3</th>\n",
       "      <td>-0.562288</td>\n",
       "      <td>-1.012831</td>\n",
       "      <td>0.314247</td>\n",
       "      <td>-0.908024</td>\n",
       "      <td>-1.412304</td>\n",
       "      <td>0.0</td>\n",
       "      <td>z</td>\n",
       "    </tr>\n",
       "    <tr>\n",
       "      <th>4</th>\n",
       "      <td>1.465649</td>\n",
       "      <td>-0.225776</td>\n",
       "      <td>0.067528</td>\n",
       "      <td>-1.424748</td>\n",
       "      <td>-0.544383</td>\n",
       "      <td>1.0</td>\n",
       "      <td>s</td>\n",
       "    </tr>\n",
       "  </tbody>\n",
       "</table>\n",
       "</div>"
      ],
      "text/plain": [
       "       col0      col1      col2      col3      col4  col5 string\n",
       "0  0.496714 -0.138264  0.647689  1.523030 -0.234153   1.0      b\n",
       "1 -0.234137  1.579213  0.767435 -0.469474  0.542560   0.0      t\n",
       "2 -0.463418 -0.465730  0.241962 -1.913280 -1.724918   0.0      j\n",
       "3 -0.562288 -1.012831  0.314247 -0.908024 -1.412304   0.0      z\n",
       "4  1.465649 -0.225776  0.067528 -1.424748 -0.544383   1.0      s"
      ]
     },
     "execution_count": 4,
     "metadata": {},
     "output_type": "execute_result"
    }
   ],
   "source": [
    "#display the first few rows\n",
    "df.head()\n",
    "#df"
   ]
  },
  {
   "cell_type": "code",
   "execution_count": null,
   "metadata": {},
   "outputs": [],
   "source": [
    "# slice the first two columns and first two rows from the dataset\n",
    "np.random.seed(42)\n",
    "df_new = df.iloc[[0,1], [0,1]]\n",
    "#df_new = df.iloc[0:2:, 0:2]\n",
    "df_new"
   ]
  },
  {
   "cell_type": "code",
   "execution_count": null,
   "metadata": {},
   "outputs": [],
   "source": [
    "# slice the last two columns and and las two rows from the dataset\n",
    "np.random.seed(42)\n",
    "print(len(df.index)) #getting number of rows in df\n",
    "last_two = df.iloc[-2:,-2:] #returning last 2 rows and last 2 columns\n",
    "last_two"
   ]
  },
  {
   "cell_type": "code",
   "execution_count": null,
   "metadata": {},
   "outputs": [],
   "source": [
    "# check the column data types in the dataset\n",
    "df.dtypes"
   ]
  },
  {
   "cell_type": "code",
   "execution_count": null,
   "metadata": {},
   "outputs": [],
   "source": [
    "# use the describe function to display the stats of the data.\n",
    "np.random.seed(42)\n",
    "#To call describe() on just the numerical columns use describe(include = [np.number])\n",
    "print(df.describe(include = [np.number]))\n",
    "print(\"\")\n",
    "\n",
    "#To call describe() on just the objects (strings) using describe(include = ['O']).\n",
    "print(df.describe(include = ['O']))\n",
    "\n",
    "print(\"\")\n",
    "#To call describe() on all elements of the dataframe use df.describe(include = 'all')\n",
    "df.describe(include = 'all')"
   ]
  },
  {
   "cell_type": "code",
   "execution_count": null,
   "metadata": {},
   "outputs": [],
   "source": [
    "# calculate the sums of the data by row\n",
    "df[\"row sum\"] = df. sum(axis=1)\n",
    "df"
   ]
  },
  {
   "cell_type": "code",
   "execution_count": null,
   "metadata": {},
   "outputs": [],
   "source": [
    "# calculate the sums of the data by column\n",
    "df['col sum']=df.iloc[:,1:7].sum(axis=0, numeric_only=True)\n",
    "#df['col sum']=df[1:7].sum(axis=1)\n",
    "df"
   ]
  },
  {
   "cell_type": "code",
   "execution_count": null,
   "metadata": {},
   "outputs": [],
   "source": [
    "# create a new column by combining two random columns in the data through - addition, or multiplication\n",
    "# call the column: new_col\n",
    "df['ratio col0:col1']=df['col0']/df['col1']*100\n",
    "df"
   ]
  },
  {
   "cell_type": "code",
   "execution_count": 5,
   "metadata": {},
   "outputs": [
    {
     "name": "stdout",
     "output_type": "stream",
     "text": [
      "       col0      col1  col2 string\n",
      "0  0.496714 -0.138264   1.0      z\n",
      "1  0.647689  1.523030   1.0      v\n",
      "2 -0.234153 -0.234137   0.0      l\n",
      "3  1.579213  0.767435   0.0      y\n",
      "4 -0.469474  0.542560   1.0      q\n",
      "\n",
      "       col0      col1  col2 string\n",
      "0  0.496714 -0.138264   1.0      z\n",
      "1  0.647689  1.523030   1.0      v\n",
      "2 -0.234153 -0.234137   0.0      l\n",
      "3  1.579213  0.767435   0.0      y\n",
      "4 -0.469474  0.542560   1.0      q\n",
      "\n",
      "     col0_x    col1_x  col2_x string    col0_y    col1_y  col2_y\n",
      "0  0.496714 -0.138264     1.0      z  0.496714 -0.138264     1.0\n",
      "1  0.647689  1.523030     1.0      v  0.647689  1.523030     1.0\n",
      "2 -0.234153 -0.234137     0.0      l -0.234153 -0.234137     0.0\n",
      "3  1.579213  0.767435     0.0      y  1.579213  0.767435     0.0\n",
      "4 -0.469474  0.542560     1.0      q -0.469474  0.542560     1.0\n"
     ]
    }
   ],
   "source": [
    "# create two random datasets from the function above and use the merge function to combine them\n",
    "# name the two dataframes appropriately\n",
    "#creating data_frame1\n",
    "data_frame1=create_dataset(5,2,2)\n",
    "print(data_frame1)\n",
    "print(\"\")\n",
    "#creating data_frame2\n",
    "data_frame2=create_dataset(5,2,2)\n",
    "print(data_frame2)\n",
    "\n",
    "# using .merge() function to merge data_frame1 and data_frame2 to get data_frame3\n",
    "data_frame3 = pd.merge(data_frame1, data_frame2, on='string')\n",
    "print(\"\")\n",
    "print(data_frame3)"
   ]
  },
  {
   "cell_type": "code",
   "execution_count": 6,
   "metadata": {},
   "outputs": [
    {
     "name": "stdout",
     "output_type": "stream",
     "text": [
      "       col0      col1  col2 string\n",
      "0  0.496714 -0.138264   1.0      l\n",
      "1  0.647689  1.523030   0.0      f\n",
      "2 -0.234153 -0.234137   1.0      b\n",
      "3  1.579213  0.767435   1.0      u\n",
      "\n",
      "       col0      col1  col2 string\n",
      "0  0.496714 -0.138264   1.0      l\n",
      "1  0.647689  1.523030   0.0      f\n",
      "2 -0.234153 -0.234137   1.0      b\n",
      "3  1.579213  0.767435   1.0      u\n",
      "\n",
      "       col0      col1  col2 string\n",
      "0  0.496714 -0.138264   1.0      l\n",
      "1  0.647689  1.523030   0.0      f\n",
      "2 -0.234153 -0.234137   1.0      b\n",
      "3  1.579213  0.767435   1.0      u\n",
      "\n",
      "       col0      col1  col2 string\n",
      "0  0.496714 -0.138264   1.0      l\n",
      "1  0.647689  1.523030   0.0      f\n",
      "2 -0.234153 -0.234137   1.0      b\n",
      "3  1.579213  0.767435   1.0      u\n",
      "\n",
      "        col0      col1  col2 string\n",
      "0   0.496714 -0.138264   1.0      l\n",
      "1   0.647689  1.523030   0.0      f\n",
      "2  -0.234153 -0.234137   1.0      b\n",
      "3   1.579213  0.767435   1.0      u\n",
      "4   0.496714 -0.138264   1.0      l\n",
      "5   0.647689  1.523030   0.0      f\n",
      "6  -0.234153 -0.234137   1.0      b\n",
      "7   1.579213  0.767435   1.0      u\n",
      "8   0.496714 -0.138264   1.0      l\n",
      "9   0.647689  1.523030   0.0      f\n",
      "10 -0.234153 -0.234137   1.0      b\n",
      "11  1.579213  0.767435   1.0      u\n"
     ]
    }
   ],
   "source": [
    "#create three random datasets and concatenate them to form one result df z\n",
    "random_data_frame1=create_dataset(4,2,2)\n",
    "print(random_data_frame1)\n",
    "print(\"\")\n",
    "#creating data_frame2\n",
    "random_data_frame2=create_dataset(4,2,2)\n",
    "print(random_data_frame2)\n",
    "print(\"\")\n",
    "#creating data_frame2\n",
    "random_data_frame2=create_dataset(4,2,2)\n",
    "print(random_data_frame2)\n",
    "print(\"\")\n",
    "#creating data_frame3\n",
    "random_data_frame3=create_dataset(4,2,2)\n",
    "print(random_data_frame3)\n",
    "print(\"\")\n",
    "z=pd.concat([random_data_frame1, random_data_frame2, random_data_frame3], ignore_index=True)\n",
    "print(z)"
   ]
  },
  {
   "cell_type": "code",
   "execution_count": 7,
   "metadata": {},
   "outputs": [
    {
     "name": "stdout",
     "output_type": "stream",
     "text": [
      "       col0      col1  col2 string\n",
      "0  0.496714 -0.138264   1.0      c\n",
      "1  0.647689  1.523030   1.0      e\n",
      "2 -0.234153 -0.234137   0.0      s\n",
      "3  1.579213  0.767435   1.0      g\n",
      "4 -0.469474  0.542560   0.0      u\n",
      "5 -0.463418 -0.465730   1.0      i\n",
      "6  0.241962 -1.913280   0.0      g\n",
      "7 -1.724918 -0.562288   1.0      r\n",
      "8 -1.012831  0.314247   1.0      d\n",
      "9 -0.908024 -1.412304   0.0      y\n",
      "\n",
      "       col0      col1  col2 string\n",
      "0  0.496714 -0.138264   1.0      z\n",
      "1  0.647689  1.523030   1.0      v\n",
      "2 -0.234153 -0.234137   0.0      l\n",
      "3  1.579213  0.767435   0.0      y\n",
      "4 -0.469474  0.542560   1.0      q\n",
      "\n",
      "     col0_x    col1_x  col2_x string    col0_y    col1_y  col2_y\n",
      "0  0.496714 -0.138264     1.0      z  0.496714 -0.138264     1.0\n",
      "1  0.647689  1.523030     1.0      v  0.647689  1.523030     1.0\n",
      "2 -0.234153 -0.234137     0.0      l -0.234153 -0.234137     0.0\n",
      "3  1.579213  0.767435     0.0      y  1.579213  0.767435     0.0\n",
      "4 -0.469474  0.542560     1.0      q -0.469474  0.542560     1.0\n"
     ]
    }
   ],
   "source": [
    "# create two datasets and join them based on one common variable\n",
    "dataFrame1=create_dataset(10,2,2)\n",
    "print(dataFrame1)\n",
    "print(\"\")\n",
    "#creating data_frame2\n",
    "dataFrame1=create_dataset(10,2,2)\n",
    "print(data_frame2)\n",
    "\n",
    "# using .merge() function to merge data_frame1 and data_frame2 to get data_frame3\n",
    "data_frame3 = pd.merge(data_frame1, data_frame2, on='string')\n",
    "print(\"\")\n",
    "print(data_frame3)"
   ]
  },
  {
   "cell_type": "code",
   "execution_count": null,
   "metadata": {},
   "outputs": [],
   "source": [
    "# create a dataset called p and groupby the string column and calculate sums"
   ]
  },
  {
   "cell_type": "code",
   "execution_count": null,
   "metadata": {},
   "outputs": [],
   "source": [
    "# create a dataframe called h and use iloc to slice the columns 3-5 and rows 3-4"
   ]
  },
  {
   "cell_type": "code",
   "execution_count": null,
   "metadata": {},
   "outputs": [],
   "source": [
    "# can you use the same dataset h but use loc function to slice the data?\n",
    "# please leave your explanation if not."
   ]
  },
  {
   "cell_type": "code",
   "execution_count": null,
   "metadata": {},
   "outputs": [],
   "source": [
    "titanic.head()"
   ]
  },
  {
   "cell_type": "code",
   "execution_count": null,
   "metadata": {},
   "outputs": [],
   "source": [
    "# please group the dataset titanic by sex and calculate the average age"
   ]
  },
  {
   "cell_type": "code",
   "execution_count": null,
   "metadata": {},
   "outputs": [],
   "source": [
    "# what is the average age of women that died in that titanic?"
   ]
  },
  {
   "cell_type": "code",
   "execution_count": null,
   "metadata": {},
   "outputs": [],
   "source": [
    "# how many of the people who embarked in Southampton were male and died?"
   ]
  },
  {
   "cell_type": "code",
   "execution_count": null,
   "metadata": {},
   "outputs": [],
   "source": [
    "# what is the average fare of a man in First Class"
   ]
  },
  {
   "cell_type": "code",
   "execution_count": null,
   "metadata": {},
   "outputs": [],
   "source": [
    "# Return the indexes of all the people that died in the titanic"
   ]
  },
  {
   "cell_type": "code",
   "execution_count": null,
   "metadata": {},
   "outputs": [],
   "source": [
    "# drop all the indexes of those people and create a new df called aliveTitanic"
   ]
  },
  {
   "cell_type": "code",
   "execution_count": null,
   "metadata": {},
   "outputs": [],
   "source": [
    "# how many were not adult males?"
   ]
  }
 ],
 "metadata": {
  "kernelspec": {
   "display_name": "Python 3 (ipykernel)",
   "language": "python",
   "name": "python3"
  },
  "language_info": {
   "codemirror_mode": {
    "name": "ipython",
    "version": 3
   },
   "file_extension": ".py",
   "mimetype": "text/x-python",
   "name": "python",
   "nbconvert_exporter": "python",
   "pygments_lexer": "ipython3",
   "version": "3.9.12"
  },
  "vscode": {
   "interpreter": {
    "hash": "1e5c683bbd3569ebf708f1c7309e809c78da43066f7b5309f73ae48079d3fe92"
   }
  }
 },
 "nbformat": 4,
 "nbformat_minor": 4
}
