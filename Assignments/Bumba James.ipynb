{
 "cells": [
  {
   "cell_type": "markdown",
   "metadata": {},
   "source": [
    "## Numpy Assignment 2\n",
    "\n",
    "- Student Name: James Bumba\n",
    "- Student RegNo: 2020/HD07/3230\n",
    "\n",
    "### Instructions\n",
    "- Please answer the exercises to the best of your knowledge.\n",
    "- The assignment is out of 10 marks and will contribute partially to your final result."
   ]
  },
  {
   "cell_type": "code",
   "execution_count": null,
   "metadata": {},
   "outputs": [],
   "source": [
    "\n",
    "#A function that creates a random dataset\n",
    "# with numerical and categorical features\n",
    "def create_dataset(n_samples, n_features, n_classes):\n",
    "    #set the seed\n",
    "    #np.random.seed(42)\n",
    "    X = np.random.randn(n_samples, n_features)\n",
    "    y = np.random.randint(0, n_classes, n_samples)\n",
    "    #combing the numerical and categorical features\n",
    "    z = np.hstack((X, y.reshape(-1, 1)))\n",
    "    # add random column names to the dataset\n",
    "    z = pd.DataFrame(z, columns=['col' + str(i) for i in range(n_features + 1)])\n",
    "    # add a column with random strings combinations\n",
    "    z['string'] = np.random.choice(['a', 'b', 'c', 'd', 'e', 'f', 'g', 'h', 'i', 'j', 'k', 'l', 'm', 'n', 'o', 'p', 'q', 'r', 's', 't', 'u', 'v', 'w', 'x', 'y', 'z'], n_samples)\n",
    "    # return the dataset\n",
    "    return z"
   ]
  },
  {
   "cell_type": "code",
   "execution_count": null,
   "metadata": {},
   "outputs": [],
   "source": [
    "#use the function above to create a dataframe.\n",
    "df = create_dataset(50,5,2)"
   ]
  },
  {
   "cell_type": "code",
   "execution_count": null,
   "metadata": {},
   "outputs": [],
   "source": [
    "#check the dimensions of the data\n",
    "df.shape"
   ]
  },
  {
   "cell_type": "code",
   "execution_count": null,
   "metadata": {},
   "outputs": [],
   "source": [
    "#display the first few rows\n",
    "df.head()\n",
    "#df"
   ]
  },
  {
   "cell_type": "code",
   "execution_count": null,
   "metadata": {},
   "outputs": [],
   "source": [
    "# slice the first two columns and first two rows from the dataset\n",
    "np.random.seed(42)\n",
    "df_new = df.iloc[[0,1], [0,1]]\n",
    "#df_new = df.iloc[0:2:, 0:2]\n",
    "df_new"
   ]
  },
  {
   "cell_type": "code",
   "execution_count": null,
   "metadata": {},
   "outputs": [],
   "source": [
    "# slice the last two columns and and las two rows from the dataset\n",
    "np.random.seed(42)\n",
    "print(len(df.index)) #getting number of rows in df\n",
    "last_two = df.iloc[-2:,-2:] #returning last 2 rows and last 2 columns\n",
    "last_two"
   ]
  },
  {
   "cell_type": "code",
   "execution_count": null,
   "metadata": {},
   "outputs": [],
   "source": [
    "# check the column data types in the dataset\n",
    "df.dtypes"
   ]
  },
  {
   "cell_type": "code",
   "execution_count": null,
   "metadata": {},
   "outputs": [],
   "source": [
    "# use the describe function to display the stats of the data.\n",
    "np.random.seed(42)\n",
    "#To call describe() on just the numerical columns use describe(include = [np.number])\n",
    "print(df.describe(include = [np.number]))\n",
    "print(\"\")\n",
    "\n",
    "#To call describe() on just the objects (strings) using describe(include = ['O']).\n",
    "print(df.describe(include = ['O']))\n",
    "\n",
    "print(\"\")\n",
    "#To call describe() on all elements of the dataframe use df.describe(include = 'all')\n",
    "df.describe(include = 'all')"
   ]
  },
  {
   "cell_type": "code",
   "execution_count": null,
   "metadata": {},
   "outputs": [],
   "source": [
    "# calculate the sums of the data by row\n",
    "rowSum = df.sum(axis=1)\n",
    "rowSum.head()"
   ]
  },
  {
   "cell_type": "code",
   "execution_count": null,
   "metadata": {},
   "outputs": [],
   "source": [
    "# calculate the sums of the data by column\n",
    "columnSum=df.iloc[:,0:7].sum(axis=0, numeric_only=True)\n",
    "#df['col sum']=df[1:7].sum(axis=1)\n",
    "columnSum"
   ]
  },
  {
   "cell_type": "code",
   "execution_count": null,
   "metadata": {},
   "outputs": [],
   "source": [
    "# create a new column by combining two random columns in the data through - addition, or multiplication\n",
    "# call the column: new_col\n",
    "df['ratio col0:col1']=df['col0']/df['col1']*100\n",
    "df.head()"
   ]
  },
  {
   "cell_type": "code",
   "execution_count": null,
   "metadata": {},
   "outputs": [],
   "source": [
    "# create two random datasets from the function above and use the merge function to combine them\n",
    "# name the two dataframes appropriately\n",
    "#creating data_frame1\n",
    "data_frame1=create_dataset(5,2,2)\n",
    "print(data_frame1)\n",
    "print(\"\")\n",
    "#creating data_frame2\n",
    "data_frame2=create_dataset(5,2,2)\n",
    "print(data_frame2)\n",
    "\n",
    "# using .merge() function to merge data_frame1 and data_frame2 to get data_frame3\n",
    "data_frame3 = pd.merge(data_frame1, data_frame2, on='string')\n",
    "print(\"\")\n",
    "print(data_frame3)"
   ]
  },
  {
   "cell_type": "code",
   "execution_count": null,
   "metadata": {},
   "outputs": [],
   "source": [
    "#create three random datasets and concatenate them to form one result df z\n",
    "random_data_frame1=create_dataset(5,2,2)\n",
    "print(random_data_frame1)\n",
    "print(\"\")\n",
    "#creating data_frame2\n",
    "random_data_frame2=create_dataset(4,2,2)\n",
    "print(random_data_frame2)\n",
    "print(\"\")\n",
    "#creating data_frame2\n",
    "random_data_frame2=create_dataset(4,2,2)\n",
    "print(random_data_frame2)\n",
    "print(\"\")\n",
    "#creating data_frame3\n",
    "random_data_frame3=create_dataset(4,2,2)\n",
    "print(random_data_frame3)\n",
    "print(\"\")\n",
    "z=pd.concat([random_data_frame1, random_data_frame2, random_data_frame3])\n",
    "print(z)"
   ]
  },
  {
   "cell_type": "code",
   "execution_count": null,
   "metadata": {},
   "outputs": [],
   "source": [
    "# create two datasets and join them based on one common variable\n",
    "dataFrame1=create_dataset(10,2,2)\n",
    "print(dataFrame1)\n",
    "print(\"\")\n",
    "#creating data_frame2\n",
    "dataFrame1=create_dataset(10,2,2)\n",
    "print(data_frame2)\n",
    "\n",
    "# using .merge() function to merge data_frame1 and data_frame2 to get data_frame3\n",
    "data_frame3 = pd.merge(data_frame1, data_frame2, on='string')\n",
    "print(\"\")\n",
    "print(data_frame3)"
   ]
  },
  {
   "cell_type": "code",
   "execution_count": null,
   "metadata": {},
   "outputs": [],
   "source": [
    "# create a dataset called p and groupby the string column and calculate sums\n",
    "p=df.groupby('string').sum(numeric_only=True)#grouping by column 'string' and getting sums\n",
    "p"
   ]
  },
  {
   "cell_type": "code",
   "execution_count": null,
   "metadata": {},
   "outputs": [],
   "source": [
    "# create a dataframe called h and use iloc to slice the columns 3-5 and rows 3-4\n",
    "h = df.iloc[3:5, 3:6]\n",
    "h"
   ]
  },
  {
   "cell_type": "code",
   "execution_count": null,
   "metadata": {},
   "outputs": [],
   "source": [
    "# can you use the same dataset h but use loc function to slice the data?\n",
    "# please leave your explanation if not.\n",
    "#iloc selects rows and columns at specific integer positions"
   ]
  },
  {
   "cell_type": "markdown",
   "metadata": {},
   "source": [
    "No, loc cannot be used in this case.\n",
    "This is because loc selects rows and columns with specific labels which is not the case in h above\n"
   ]
  },
  {
   "cell_type": "code",
   "execution_count": null,
   "metadata": {},
   "outputs": [],
   "source": [
    "titanic.head()"
   ]
  },
  {
   "cell_type": "code",
   "execution_count": null,
   "metadata": {},
   "outputs": [],
   "source": [
    "# please group the dataset titanic by sex and calculate the average age\n",
    "\n",
    "mean_age_by_sex = titanic[[\"sex\", \"age\"]].groupby(\"sex\").mean()\n",
    "mean_age_by_sex"
   ]
  },
  {
   "cell_type": "code",
   "execution_count": null,
   "metadata": {},
   "outputs": [],
   "source": [
    "# what is the average age of women that died in that titanic?\n",
    "\n",
    "dead_women = titanic[(titanic[\"sex\"] == \"female\") & (titanic[\"survived\"] == 0)]\n",
    "dead_women\n",
    "mean_age_of_dead_women = dead_women[[\"age\"]].mean()\n",
    "mean_age_of_dead_women"
   ]
  },
  {
   "cell_type": "code",
   "execution_count": null,
   "metadata": {},
   "outputs": [],
   "source": [
    "# how many of the people who embarked in Southampton were male and died?\n",
    "dead_men_south = titanic[(titanic[\"sex\"] == \"male\") & (titanic[\"survived\"] == 0) & (titanic[\"embark_town\"]==\"Southampton\")]\n",
    "print(dead_men_south.head())\n",
    "dead_men_south.shape[0]"
   ]
  },
  {
   "cell_type": "code",
   "execution_count": null,
   "metadata": {},
   "outputs": [],
   "source": [
    "# what is the average fare of a man in First Class\n",
    "men_in_first_class=titanic[(titanic[\"sex\"] == \"male\") & (titanic[\"class\"] == \"First\")]\n",
    "men_in_first_class.head()\n",
    "average_men_fair_first=men_in_first_class[\"fare\"].mean()\n",
    "average_men_fair_first "
   ]
  },
  {
   "cell_type": "code",
   "execution_count": null,
   "metadata": {},
   "outputs": [],
   "source": [
    "# Return the indexes of all the people that died in the titanic\n",
    "died= titanic[titanic[\"survived\"]==0]\n",
    "died.index"
   ]
  },
  {
   "cell_type": "code",
   "execution_count": null,
   "metadata": {},
   "outputs": [],
   "source": [
    "# drop all the indexes of those people and create a new df called aliveTitanic\n",
    "aliveTitanic = titanic.drop(titanic[titanic[\"survived\"]==0])\n",
    "aliveTitanic"
   ]
  },
  {
   "cell_type": "code",
   "execution_count": null,
   "metadata": {},
   "outputs": [],
   "source": [
    "# how many were not adult males?\n",
    "not_adult_males= titanic[(titanic[\"adult_male\"]==False)]\n",
    "not_adult_males.shape[0]"
   ]
  }
 ],
 "metadata": {
  "kernelspec": {
   "display_name": "Python 3",
   "language": "python",
   "name": "python3"
  },
  "language_info": {
   "codemirror_mode": {
    "name": "ipython",
    "version": 3
   },
   "file_extension": ".py",
   "mimetype": "text/x-python",
   "name": "python",
   "nbconvert_exporter": "python",
   "pygments_lexer": "ipython3",
   "version": "3.9.12"
  },
  "vscode": {
   "interpreter": {
    "hash": "1e5c683bbd3569ebf708f1c7309e809c78da43066f7b5309f73ae48079d3fe92"
   }
  }
 },
 "nbformat": 4,
 "nbformat_minor": 4
}
