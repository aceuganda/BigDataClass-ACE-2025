{
 "cells": [
  {
   "cell_type": "markdown",
   "metadata": {},
   "source": [
    "## Numpy Assignment 1\n",
    "\n",
    "- Student Name: Robert Amutuhaire\n",
    "- Student RegNo: 2021/HD07/3229U\n",
    "\n",
    "### Instructions\n",
    "- Please answer the exercises to the best of your knowledge.\n",
    "- The assignment is out of 10 marks and will contribute partially to your final result."
   ]
  },
  {
   "cell_type": "code",
   "execution_count": null,
   "metadata": {},
   "outputs": [],
   "source": [
    "#create numpy one dimentional array with 10 elements\n",
    "import numpy as np\n",
    "x = np.arange(10)\n",
    "x\n"
   ]
  },
  {
   "cell_type": "code",
   "execution_count": null,
   "metadata": {},
   "outputs": [],
   "source": [
    "#create an numpy array from a python list\n",
    "np.array([1,2,3,4,5,6,7,8,9])  # we use np.array to create numpy arrays from a python list"
   ]
  },
  {
   "cell_type": "code",
   "execution_count": null,
   "metadata": {},
   "outputs": [],
   "source": [
    "# create an array of five values evenly spaced between 0 and 1\n",
    "np.linspace(0, 1, 5)"
   ]
  },
  {
   "cell_type": "code",
   "execution_count": null,
   "metadata": {},
   "outputs": [],
   "source": [
    "# Create a 3x3 array of normally distributed random values\n",
    "# with mean 0 and standard deviation 3\n",
    "np.random.normal(0, 3, (3,3))\n"
   ]
  },
  {
   "cell_type": "code",
   "execution_count": null,
   "metadata": {},
   "outputs": [],
   "source": [
    "#creat a 5x5 array with complex numbers\n",
    "np.zeros((5,5), dtype=complex)"
   ]
  },
  {
   "cell_type": "code",
   "execution_count": null,
   "metadata": {},
   "outputs": [],
   "source": [
    "#create a one dimentional array with 20 elements and return elements from 3 to 7\n",
    "y = np.arange(20) #A one dimentional array with 20 elements\n",
    "y\n",
    "y[3:8] #Returning elements from 3 to 7(Not from 3rd to 7th)"
   ]
  },
  {
   "cell_type": "code",
   "execution_count": null,
   "metadata": {},
   "outputs": [],
   "source": [
    "#create a 3x3 array of random integers and reverse elements of the first row\n",
    "z = np.random.randint(0, 10, (3, 3))  # Three-dimensional array\n",
    "z\n",
    "z[-1, ::] #Reversing the elements of the first row"
   ]
  },
  {
   "cell_type": "code",
   "execution_count": null,
   "metadata": {},
   "outputs": [],
   "source": [
    "#create 2 4x4 arrays and stack them both vertically and horizontally\n",
    "a = np.arange(1, 17).reshape(4,4) #creating a 4x4 array naming it a\n",
    "b = np.arange(18, 34).reshape(4,4) #creating the secod 4x4 naming it b\n",
    "np.concatenate([a, b]) #Stacking them vertically. Alternatively:\n",
    "np.vstack([a, b])  #Works the same as concatenate in this case.\n",
    "np.concatenate([a, b], axis=1) #Stacking them horizontally. Alternatively:\n",
    "np.vstack([a, b])  #Works the same as concatenate along axis 1 in this case.\n"
   ]
  },
  {
   "cell_type": "code",
   "execution_count": null,
   "metadata": {},
   "outputs": [],
   "source": [
    "#what are the rules of numpy broadcasting?\n",
    "#Rule 1: If the two arrays differ in their number of dimensions, the shape of the one with fewer dimensions is padded with ones on its leading (left) side.\n",
    "#Rule 2: If the shape of the two arrays does not match in any dimension, the array with shape equal to 1 in that dimension is stretched to match the other shape.\n",
    "#Rule 3: If in any dimension the sizes disagree and neither is equal to 1, an error is raised."
   ]
  },
  {
   "cell_type": "code",
   "execution_count": null,
   "metadata": {},
   "outputs": [],
   "source": [
    "# create two 3X3 matrices that are incopatible and raise an error\n",
    "#1\n",
    "w = np.zeros((3,3), dtype=complex)\n",
    "s = np.arange(1, 10).reshape(3,3)\n",
    "np.concatenate([w, s]) #incompatible raises an error\n",
    "\n",
    "#2\n",
    "def square(list):\n",
    "    return [i ** 2 for i in list]\n",
    "def multLists(c, d):\n",
    "    return c * d\n",
    "def main():\n",
    "    c = np.arange(1, 10).reshape(3,3)\n",
    "    d = np.arange(11, 20).reshape(3,3)\n",
    "    \n",
    "    e = square(d)\n",
    "    f = multLists(x, y)\n",
    "    g = c\n",
    "    h = d\n",
    "    j = np.ones(len(c))\n",
    "    c2 = square(c)\n",
    "    \n",
    "    Matrix = np.array([c,d,e,f,g,h,j])\n",
    "    Output = np.linalg.lstsq(Matrix.T, c2)[0]\n",
    "    print(Output)\n",
    "    \n",
    "main()"
   ]
  },
  {
   "cell_type": "code",
   "execution_count": null,
   "metadata": {},
   "outputs": [],
   "source": [
    "#create a 4x4 matrix with random integers and use a boolean mask to check for those above 4\n",
    "\n",
    "#Create a matrix\n",
    "rd = np.random.randint(0, 17, (4, 4))\n",
    "rd > 4 #Checking those less than\n",
    "\n",
    "\n"
   ]
  }
 ],
 "metadata": {
  "kernelspec": {
   "display_name": "Python 3",
   "language": "python",
   "name": "python3"
  },
  "language_info": {
   "codemirror_mode": {
    "name": "ipython",
    "version": 3
   },
   "file_extension": ".py",
   "mimetype": "text/x-python",
   "name": "python",
   "nbconvert_exporter": "python",
   "pygments_lexer": "ipython3",
   "version": "3.8.5"
  },
  "vscode": {
   "interpreter": {
    "hash": "e948b46aa9abb61b8fc97b843695ed17a94d0f686699c28c53621035384d7bb3"
   }
  }
 },
 "nbformat": 4,
 "nbformat_minor": 4
}
