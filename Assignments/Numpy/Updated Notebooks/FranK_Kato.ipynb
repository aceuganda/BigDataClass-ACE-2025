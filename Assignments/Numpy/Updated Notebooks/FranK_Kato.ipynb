{
 "cells": [
  {
   "cell_type": "markdown",
   "metadata": {},
   "source": [
    "## Numpy Assignment 1\n",
    "\n",
    "- Student Name: FRANK KATO\n",
    "- Student RegNo: 2021/HDO7/3232U\n",
    "\n",
    "### Instructions\n",
    "- Please answer the exercises to the best of your knowledge.\n",
    "- The assignment is out of 10 marks and will contribute partially to your final result."
   ]
  },
  {
   "cell_type": "code",
   "execution_count": 1,
   "metadata": {},
   "outputs": [
    {
     "name": "stdout",
     "output_type": "stream",
     "text": [
      "[ 0  2  4  6  8 10 12 14 16 18]\n",
      "1\n"
     ]
    }
   ],
   "source": [
    "#create numpy one dimentional array with 10 elements\n",
    "import numpy as np\n",
    "OneDimAray = np.arange(0, 20, 2) #creates numpy one dimensional array with 10\n",
    "print(OneDimAray) #prints numpy one dimensional array with 10 elements\n",
    "print(OneDimAray.ndim) #dimensions one dimensional array"
   ]
  },
  {
   "cell_type": "code",
   "execution_count": 2,
   "metadata": {},
   "outputs": [
    {
     "name": "stdout",
     "output_type": "stream",
     "text": [
      "[1, 2, 3, 5, 6, 7]\n",
      "[1 2 3 5 6 7]\n"
     ]
    }
   ],
   "source": [
    "#create an numpy array from a python list\n",
    "MyPythonList = [1,2,3,5,6,7] #creates python list\n",
    "print(MyPythonList) #prints python list\n",
    "NumpyArray = np.array(MyPythonList) #converts python list to numpy array\n",
    "print(NumpyArray) #prints numpy array"
   ]
  },
  {
   "cell_type": "code",
   "execution_count": 3,
   "metadata": {},
   "outputs": [
    {
     "name": "stdout",
     "output_type": "stream",
     "text": [
      "[0.   0.25 0.5  0.75 1.  ]\n"
     ]
    }
   ],
   "source": [
    "# create an array of five values evenly spaced between 0 and 1\n",
    "FiveValues = np.linspace(0,1,5) #creates an array of five values evenly spaced between 0 and 1\n",
    "print(FiveValues) #print array"
   ]
  },
  {
   "cell_type": "code",
   "execution_count": 4,
   "metadata": {},
   "outputs": [
    {
     "name": "stdout",
     "output_type": "stream",
     "text": [
      "[[ 1.69142162 -2.26559863  1.77524179]\n",
      " [-4.07876559  3.35826588  4.75309466]\n",
      " [-0.18393247 -1.96247012 -3.12360733]]\n"
     ]
    }
   ],
   "source": [
    "# Create a 3x3 array of normally distributed random values\n",
    "# with mean 0 and standard deviation 3\n",
    "RandomValues = np.random.normal(0, 3, (3, 3)) #create 3x3 array of normally distributed values\n",
    "print(RandomValues) #print 3x3 array of normally distributed values"
   ]
  },
  {
   "cell_type": "code",
   "execution_count": 5,
   "metadata": {},
   "outputs": [
    {
     "name": "stdout",
     "output_type": "stream",
     "text": [
      "[[1.+0.j 1.+0.j 1.+0.j 1.+0.j 1.+0.j]\n",
      " [1.+0.j 1.+0.j 1.+0.j 1.+0.j 1.+0.j]\n",
      " [1.+0.j 1.+0.j 1.+0.j 1.+0.j 1.+0.j]\n",
      " [1.+0.j 1.+0.j 1.+0.j 1.+0.j 1.+0.j]\n",
      " [1.+0.j 1.+0.j 1.+0.j 1.+0.j 1.+0.j]]\n"
     ]
    }
   ],
   "source": [
    "#creat a 5x5 array with complex numbers\n",
    "ComplexNumbers = np.ones((5,5), dtype=complex) #creates a 5x5 array with data type as complex numbers\n",
    "print(ComplexNumbers) #prints a 5x5 array with complex numbers"
   ]
  },
  {
   "cell_type": "code",
   "execution_count": 6,
   "metadata": {},
   "outputs": [
    {
     "name": "stdout",
     "output_type": "stream",
     "text": [
      "1\n",
      "[ 0  1  2  3  4  5  6  7  8  9 10 11 12 13 14 15 16 17 18 19]\n",
      "[3 4 5 6 7]\n"
     ]
    }
   ],
   "source": [
    "#create a one dimentional array with 20 elements and return elements from 3 to 7\n",
    "OneDimensionalArray = np.arange(20) #creates an array with 20 elements\n",
    "print(OneDimensionalArray.ndim) #dimensions\n",
    "print(OneDimensionalArray) #prints array with 20 elements\n",
    "print(OneDimensionalArray[3:8]) #prints elements from 3 to 7"
   ]
  },
  {
   "cell_type": "code",
   "execution_count": 7,
   "metadata": {},
   "outputs": [
    {
     "name": "stdout",
     "output_type": "stream",
     "text": [
      "[5 0 3]\n",
      "[3 0 5]\n"
     ]
    }
   ],
   "source": [
    "#create a 3x3 array of random integers and reverse elements of the first row\n",
    "np.random.seed(0)  # seed for reproducibility\n",
    "RandomIntegers = np.random.randint(10, size=(3,3)) #3X3 array of random integers\n",
    "print(RandomIntegers[0]) #elements of first row\n",
    "print(RandomIntegers[0, ::-1]) #reverses elements of first row\n"
   ]
  },
  {
   "cell_type": "code",
   "execution_count": 8,
   "metadata": {},
   "outputs": [
    {
     "name": "stdout",
     "output_type": "stream",
     "text": [
      "[[ 0  1  2  3]\n",
      " [ 4  5  6  7]\n",
      " [ 8  9 10 11]\n",
      " [12 13 14 15]]\n",
      "[[1 1 1 1]\n",
      " [1 1 1 1]\n",
      " [1 1 1 1]\n",
      " [1 1 1 1]]\n",
      "[[ 0  1  2  3  1  1  1  1]\n",
      " [ 4  5  6  7  1  1  1  1]\n",
      " [ 8  9 10 11  1  1  1  1]\n",
      " [12 13 14 15  1  1  1  1]]\n",
      "[[ 0  1  2  3]\n",
      " [ 4  5  6  7]\n",
      " [ 8  9 10 11]\n",
      " [12 13 14 15]\n",
      " [ 1  1  1  1]\n",
      " [ 1  1  1  1]\n",
      " [ 1  1  1  1]\n",
      " [ 1  1  1  1]]\n"
     ]
    }
   ],
   "source": [
    "#create 2 4x4 arrays and stack them both vertically and horizontally\n",
    "FirstArray = np.arange(16).reshape(4,4) #4x4 array of 16 elements\n",
    "SecondArray = np.ones(16, dtype=int).reshape(4,4) #4x4 array with 16 ones\n",
    "print(FirstArray) #array of 16 elements\n",
    "\n",
    "print(SecondArray) #array of 16 elements\n",
    "print(np.hstack((FirstArray,SecondArray))) # 2 4x4 arrays stacked horizontally\n",
    "print(np.vstack((FirstArray,SecondArray))) # 2 4x4 arrays stacked vertically\n"
   ]
  },
  {
   "cell_type": "markdown",
   "metadata": {},
   "source": [
    "    #what are the rules of numpy broadcasting?\n",
    "    1. If the numbers of dimensions of the two arrays are different, add new dimensions with size 1 to the head of the array with the smaller dimension. This makes two arrays have equal dimensions\n",
    "    2. Also,Make each dimension of the two arrays the same size.\n",
    "    3. An error is raised if in any dimension sizes disagree and none is equal to zero"
   ]
  },
  {
   "cell_type": "code",
   "execution_count": 9,
   "metadata": {},
   "outputs": [
    {
     "name": "stdout",
     "output_type": "stream",
     "text": [
      "[[1. 0. 0.]\n",
      " [0. 1. 0.]\n",
      " [0. 0. 1.]]\n",
      "[]\n"
     ]
    },
    {
     "ename": "ValueError",
     "evalue": "operands could not be broadcast together with shapes (3,3) (0,3) ",
     "output_type": "error",
     "traceback": [
      "\u001b[0;31m---------------------------------------------------------------------------\u001b[0m",
      "\u001b[0;31mValueError\u001b[0m                                Traceback (most recent call last)",
      "\u001b[1;32m/Users/katofrank/Desktop/Bioinformatics_welcome_sanger/ACE/SEMII/MSB7211 Big Bio Data Analysis/FranK_Kato.ipynb Cell 11'\u001b[0m in \u001b[0;36m<cell line: 6>\u001b[0;34m()\u001b[0m\n\u001b[1;32m      <a href='vscode-notebook-cell:/Users/katofrank/Desktop/Bioinformatics_welcome_sanger/ACE/SEMII/MSB7211%20Big%20Bio%20Data%20Analysis/FranK_Kato.ipynb#ch0000010?line=3'>4</a>\u001b[0m MatrixB \u001b[39m=\u001b[39m np\u001b[39m.\u001b[39meye(\u001b[39m0\u001b[39m,\u001b[39m3\u001b[39m) \u001b[39m#identiry matrix of (0,3)\u001b[39;00m\n\u001b[1;32m      <a href='vscode-notebook-cell:/Users/katofrank/Desktop/Bioinformatics_welcome_sanger/ACE/SEMII/MSB7211%20Big%20Bio%20Data%20Analysis/FranK_Kato.ipynb#ch0000010?line=4'>5</a>\u001b[0m \u001b[39mprint\u001b[39m(MatrixB)\n\u001b[0;32m----> <a href='vscode-notebook-cell:/Users/katofrank/Desktop/Bioinformatics_welcome_sanger/ACE/SEMII/MSB7211%20Big%20Bio%20Data%20Analysis/FranK_Kato.ipynb#ch0000010?line=5'>6</a>\u001b[0m MatrixA\u001b[39m+\u001b[39;49mMatrixB\n",
      "\u001b[0;31mValueError\u001b[0m: operands could not be broadcast together with shapes (3,3) (0,3) "
     ]
    }
   ],
   "source": [
    "# create two 3X3 matrices that are incompatible and raise an error\n",
    "MatrixA = np.eye(3,3) #identity matrix of (3,3)\n",
    "print(MatrixA)\n",
    "MatrixB = np.eye(0,3) #identiry matrix of (0,3)\n",
    "print(MatrixB)\n",
    "MatrixA+MatrixB #incompatible matrices \n",
    "\n"
   ]
  },
  {
   "cell_type": "markdown",
   "metadata": {},
   "source": [
    "MatrixA and MatrixB are incompatible because their shapes are do not match"
   ]
  },
  {
   "cell_type": "code",
   "execution_count": null,
   "metadata": {},
   "outputs": [
    {
     "name": "stdout",
     "output_type": "stream",
     "text": [
      "(4, 4)\n",
      "[[5 0 3 3]\n",
      " [7 9 3 5]\n",
      " [2 4 7 6]\n",
      " [8 8 1 6]]\n",
      "[[ True False False False]\n",
      " [ True  True False  True]\n",
      " [False False  True  True]\n",
      " [ True  True False  True]]\n"
     ]
    }
   ],
   "source": [
    "#create a 4x4 matrix with random integers and use a boolean mask to check for those above 4\n",
    "np.random.seed(0)  # seed for reproducibility\n",
    "MyMatrix = np.random.randint(0,10,(4,4)) #a 4x4 array in the interval 0 to 10\n",
    "print(MyMatrix.shape) #4x4 matrix\n",
    "print(MyMatrix)\n",
    "print(MyMatrix>4) #boolean mask checks for those above 4\n",
    " "
   ]
  }
 ],
 "metadata": {
  "kernelspec": {
   "display_name": "Python 3",
   "language": "python",
   "name": "python3"
  },
  "language_info": {
   "codemirror_mode": {
    "name": "ipython",
    "version": 3
   },
   "file_extension": ".py",
   "mimetype": "text/x-python",
   "name": "python",
   "nbconvert_exporter": "python",
   "pygments_lexer": "ipython3",
   "version": "3.8.5"
  },
  "vscode": {
   "interpreter": {
    "hash": "7445841affbcac9564a7c72d915d8492766c6529356085b1ea4ec8810c22a1df"
   }
  }
 },
 "nbformat": 4,
 "nbformat_minor": 4
}
