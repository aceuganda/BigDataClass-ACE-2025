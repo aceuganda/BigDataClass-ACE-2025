{
 "cells": [
  {
   "cell_type": "markdown",
   "metadata": {},
   "source": [
    "## Numpy Assignment 1\n",
    "\n",
    "- Student Name: Robert Amutuhaire\n",
    "- Student RegNo: 2021/HD07/3229U\n",
    "\n",
    "### Instructions\n",
    "- Please answer the exercises to the best of your knowledge.\n",
    "- The assignment is out of 10 marks and will contribute partially to your final result."
   ]
  },
  {
   "cell_type": "code",
   "execution_count": 3,
   "metadata": {},
   "outputs": [
    {
     "name": "stdout",
     "output_type": "stream",
     "text": [
      "[0 1 2 3 4 5 6 7 8 9]\n"
     ]
    },
    {
     "data": {
      "text/plain": [
       "1"
      ]
     },
     "execution_count": 3,
     "metadata": {},
     "output_type": "execute_result"
    }
   ],
   "source": [
    "#create numpy one dimentional array with 10 elements\n",
    "import numpy as np\n",
    "np.random.seed(0)  # seed for reproducibility\n",
    "OneDimArray = np.arange(10) #creating the one dimension array using the np.arange function\n",
    "print(OneDimArray) #Prints the one dimentional array\n",
    "type(OneDimArray) #Checking the tpye of the array\n",
    "OneDimArray.ndim #checking the dimensions of the array to ensure it's one dimentional\n"
   ]
  },
  {
   "cell_type": "code",
   "execution_count": 9,
   "metadata": {},
   "outputs": [
    {
     "name": "stdout",
     "output_type": "stream",
     "text": [
      "[40 42 43 44 45 46 47 48 49]\n"
     ]
    },
    {
     "data": {
      "text/plain": [
       "numpy.ndarray"
      ]
     },
     "execution_count": 9,
     "metadata": {},
     "output_type": "execute_result"
    }
   ],
   "source": [
    "#create an numpy array from a python list\n",
    "PythonList = [40,42,43,44,45,46,47,48,49] #Creating a python list\n",
    "ArrayfromPythonList = np.array(PythonList)  # Creating a numpy array from our list Using a function np.array\n",
    "print(ArrayfromPythonList) #Printing our numpy.ndarray\n"
   ]
  },
  {
   "cell_type": "code",
   "execution_count": 10,
   "metadata": {},
   "outputs": [
    {
     "name": "stdout",
     "output_type": "stream",
     "text": [
      "[0.   0.25 0.5  0.75 1.  ]\n"
     ]
    }
   ],
   "source": [
    "# create an array of five values evenly spaced between 0 and 1\n",
    "ArrayofFive = np.linspace(0, 1, 5) #Using the function np.linspace to create an evenly spaced array of 5 values\n",
    "print(ArrayofFive)"
   ]
  },
  {
   "cell_type": "code",
   "execution_count": 18,
   "metadata": {},
   "outputs": [
    {
     "name": "stdout",
     "output_type": "stream",
     "text": [
      "Normally distributed 3x3 array with random values, mean of 0 and standard deviation of 3\n",
      "[[ 2.85026525 -0.45407162 -0.30965656]\n",
      " [ 1.23179551  0.43213071  4.36282052]\n",
      " [ 2.28311318  0.36502505  1.3315897 ]]\n"
     ]
    }
   ],
   "source": [
    "# Create a 3x3 array of normally distributed random values\n",
    "# with mean 0 and standard deviation 3\n",
    "mean = 0 #mean\n",
    "sd = 3 #standard deviation\n",
    "NormallyDistributedArray = np.random.normal(mean, sd, (3,3)) #using the np.random.normal function to reate our 3x3 Normaly Distributed array\n",
    "print(\"Normally distributed 3x3 array with random values, mean of 0 and standard deviation of 3\")\n",
    "print(NormallyDistributedArray)\n"
   ]
  },
  {
   "cell_type": "code",
   "execution_count": 14,
   "metadata": {},
   "outputs": [
    {
     "name": "stdout",
     "output_type": "stream",
     "text": [
      "[[0.+0.j 0.+0.j 0.+0.j 0.+0.j 0.+0.j]\n",
      " [0.+0.j 0.+0.j 0.+0.j 0.+0.j 0.+0.j]\n",
      " [0.+0.j 0.+0.j 0.+0.j 0.+0.j 0.+0.j]\n",
      " [0.+0.j 0.+0.j 0.+0.j 0.+0.j 0.+0.j]\n",
      " [0.+0.j 0.+0.j 0.+0.j 0.+0.j 0.+0.j]]\n"
     ]
    }
   ],
   "source": [
    "#creat a 5x5 array with complex numbers\n",
    "ComplexArray = np.zeros((5,5), dtype=complex) \n",
    "print(ComplexArray)"
   ]
  },
  {
   "cell_type": "code",
   "execution_count": 16,
   "metadata": {},
   "outputs": [
    {
     "name": "stdout",
     "output_type": "stream",
     "text": [
      "[ 0  1  2  3  4  5  6  7  8  9 10 11 12 13 14 15 16 17 18 19]\n",
      "\n"
     ]
    },
    {
     "data": {
      "text/plain": [
       "array([3, 4, 5, 6, 7])"
      ]
     },
     "execution_count": 16,
     "metadata": {},
     "output_type": "execute_result"
    }
   ],
   "source": [
    "#create a one dimentional array with 20 elements and return elements from 3 to 7\n",
    "TwentyElementsArray = np.arange(20) #Creating the one dimentional array using np.arange function\n",
    "print(TwentyElementsArray)\n",
    "print(\"Elements from 3 to 7\")\n",
    "TwentyElementsArray[3:8] #Returning elements from 3 to 7(Not from 3rd to 7th)"
   ]
  },
  {
   "cell_type": "code",
   "execution_count": 19,
   "metadata": {},
   "outputs": [
    {
     "name": "stdout",
     "output_type": "stream",
     "text": [
      "3x3 array of random intergers\n",
      "[[5 0 3]\n",
      " [3 7 9]\n",
      " [3 5 2]]\n",
      "Reversing elements of the first row\n",
      "[3 0 5]\n"
     ]
    }
   ],
   "source": [
    "#create a 3x3 array of random integers and reverse elements of the first row\n",
    "np.random.seed(0)  # seed for reproducibility\n",
    "RandomIntegersArray = np.random.randint(0, 10, (3, 3))  #Creating a numpy array of random integers using np.random.randint function\n",
    "print(\"3x3 array of random intergers\")\n",
    "print(RandomIntegersArray)\n",
    "print(\"Reversing elements of the first row\")\n",
    "ReversedFirstRow = np.fliplr([RandomIntegersArray[0]])[0] #Reversing the first row using the np.fliplr function\n",
    "print(ReversedFirstRow)\n"
   ]
  },
  {
   "cell_type": "code",
   "execution_count": 25,
   "metadata": {},
   "outputs": [
    {
     "name": "stdout",
     "output_type": "stream",
     "text": [
      "Array1\n",
      "[[ 1  2  3  4]\n",
      " [ 5  6  7  8]\n",
      " [ 9 10 11 12]\n",
      " [13 14 15 16]]\n",
      "\n",
      "Array2\n",
      "[[18 19 20 21]\n",
      " [22 23 24 25]\n",
      " [26 27 28 29]\n",
      " [30 31 32 33]]\n",
      "\n",
      "Stacking Array1 and Array2 vertically using np.vstack\n",
      "[[ 1  2  3  4]\n",
      " [ 5  6  7  8]\n",
      " [ 9 10 11 12]\n",
      " [13 14 15 16]\n",
      " [18 19 20 21]\n",
      " [22 23 24 25]\n",
      " [26 27 28 29]\n",
      " [30 31 32 33]]\n",
      "Alternatively using mp.concatenate function:\n",
      "[[ 1  2  3  4]\n",
      " [ 5  6  7  8]\n",
      " [ 9 10 11 12]\n",
      " [13 14 15 16]\n",
      " [18 19 20 21]\n",
      " [22 23 24 25]\n",
      " [26 27 28 29]\n",
      " [30 31 32 33]]\n",
      "\n",
      "Stacking Array1 and Array2 horizontally\n",
      "[[ 1  2  3  4]\n",
      " [ 5  6  7  8]\n",
      " [ 9 10 11 12]\n",
      " [13 14 15 16]\n",
      " [18 19 20 21]\n",
      " [22 23 24 25]\n",
      " [26 27 28 29]\n",
      " [30 31 32 33]]\n",
      "Alternatively using np.concatenate function along the x-axis:\n",
      "[[ 1  2  3  4 18 19 20 21]\n",
      " [ 5  6  7  8 22 23 24 25]\n",
      " [ 9 10 11 12 26 27 28 29]\n",
      " [13 14 15 16 30 31 32 33]]\n"
     ]
    }
   ],
   "source": [
    "#create 2 4x4 arrays and stack them both vertically and horizontally\n",
    "Array1 = np.arange(1, 17).reshape(4,4) #creating a 4x4 array naming it variable Array1\n",
    "print(\"Array1\")\n",
    "print(Array1)\n",
    "print()\n",
    "Array2 = np.arange(18, 34).reshape(4,4) #creating the secod 4x4 naming it variable Array2\n",
    "print(\"Array2\")\n",
    "print(Array2)\n",
    "print()\n",
    "print(\"Stacking Array1 and Array2 vertically using np.vstack\")\n",
    "VerticalStack1 = np.vstack([Array1, Array2])  #Stacking the 2 arrays vertically using np.vstack function\n",
    "print(VerticalStack1)\n",
    "print()\n",
    "print(\"Alternatively using mp.concatenate function:\")\n",
    "VerticalStack2 = np.concatenate([Array1, Array2]) #Stacking them vertically by concatenating them. \n",
    "print(VerticalStack2)\n",
    "print()\n",
    "print(\"Stacking Array1 and Array2 horizontally\")\n",
    "HorizontalStack1 = np.vstack([Array1, Array2])  #Stacking the 2 arrays horizontally using np.vstack function\n",
    "print(HorizontalStack1)\n",
    "print()\n",
    "print(\"Alternatively using np.concatenate function along the x-axis:\")\n",
    "HorizontalStack2 = np.concatenate([Array1, Array2], axis=1) #Stacking them horizontally by concatenating them along the x axis.\n",
    "print(HorizontalStack2)\n",
    "\n"
   ]
  },
  {
   "cell_type": "code",
   "execution_count": null,
   "metadata": {},
   "outputs": [],
   "source": [
    "#what are the rules of numpy broadcasting?\n",
    "#Rule 1: If the two arrays differ in their number of dimensions, the shape of the one with fewer dimensions is padded with ones on its leading (left) side.\n",
    "#Rule 2: If the shape of the two arrays does not match in any dimension, the array with shape equal to 1 in that dimension is stretched to match the other shape.\n",
    "#Rule 3: If in any dimension the sizes disagree and neither is equal to 1, an error is raised."
   ]
  },
  {
   "cell_type": "code",
   "execution_count": 36,
   "metadata": {},
   "outputs": [
    {
     "name": "stdout",
     "output_type": "stream",
     "text": [
      "Matrix1\n",
      "[[1. 1. 1. 1. 1.]\n",
      " [1. 1. 1. 1. 1.]\n",
      " [1. 1. 1. 1. 1.]\n",
      " [1. 1. 1. 1. 1.]]\n",
      "\n",
      "Matrix2\n",
      "[0 1 2 3]\n",
      "\n",
      "Joining Matrix1 and Matrix 2\n"
     ]
    },
    {
     "ename": "ValueError",
     "evalue": "operands could not be broadcast together with shapes (4,5) (4,) ",
     "output_type": "error",
     "traceback": [
      "\u001b[1;31m---------------------------------------------------------------------------\u001b[0m",
      "\u001b[1;31mValueError\u001b[0m                                Traceback (most recent call last)",
      "\u001b[1;32m~\\AppData\\Local\\Temp/ipykernel_12656/4239305425.py\u001b[0m in \u001b[0;36m<module>\u001b[1;34m\u001b[0m\n\u001b[0;32m      9\u001b[0m \u001b[0mprint\u001b[0m\u001b[1;33m(\u001b[0m\u001b[1;33m)\u001b[0m\u001b[1;33m\u001b[0m\u001b[1;33m\u001b[0m\u001b[0m\n\u001b[0;32m     10\u001b[0m \u001b[0mprint\u001b[0m\u001b[1;33m(\u001b[0m\u001b[1;34m\"Joining Matrix1 and Matrix 2\"\u001b[0m\u001b[1;33m)\u001b[0m\u001b[1;33m\u001b[0m\u001b[1;33m\u001b[0m\u001b[0m\n\u001b[1;32m---> 11\u001b[1;33m \u001b[0mMatrix1\u001b[0m \u001b[1;33m+\u001b[0m \u001b[0mMatrix2\u001b[0m\u001b[1;33m\u001b[0m\u001b[1;33m\u001b[0m\u001b[0m\n\u001b[0m",
      "\u001b[1;31mValueError\u001b[0m: operands could not be broadcast together with shapes (4,5) (4,) "
     ]
    }
   ],
   "source": [
    "# create two 3X3 matrices that are incopatible and raise an error\n",
    "Matrix1 = np.ones((4,5)) #A transposed matrix\n",
    "print(\"Matrix1\")\n",
    "print(Matrix1)\n",
    "print()\n",
    "print(\"Matrix2\")\n",
    "Matrix2 = np.arange(4)\n",
    "print(Matrix2)\n",
    "print()\n",
    "print(\"Broadcasting Matrix1 and Matrix 2 together\")\n",
    "BroadcastMatrix = Matrix1 + Matrix2\n",
    "print(BroadcastMatrix) #Raises an error because they are incompatible due to differences in shape dimensions"
   ]
  },
  {
   "cell_type": "code",
   "execution_count": 47,
   "metadata": {},
   "outputs": [
    {
     "name": "stdout",
     "output_type": "stream",
     "text": [
      "RandomIntergers 4x4 Matrix\n",
      "[[15  1 12  3]\n",
      " [15  3 10 12]\n",
      " [ 6  3  5 11]\n",
      " [ 0 11  8 10]]\n",
      "\n",
      "Boolean Mask checking those above 4\n",
      "[[ True False  True False]\n",
      " [ True False  True  True]\n",
      " [ True False  True  True]\n",
      " [False  True  True  True]]\n",
      "\n",
      "Integers above 4\n"
     ]
    },
    {
     "data": {
      "text/plain": [
       "array([15, 12, 15, 10, 12,  6,  5, 11, 11,  8, 10])"
      ]
     },
     "execution_count": 47,
     "metadata": {},
     "output_type": "execute_result"
    }
   ],
   "source": [
    "#create a 4x4 matrix with random integers and use a boolean mask to check for those above 4\n",
    "\n",
    "#Create a matrix\n",
    "RandomIntegersMatrix = np.random.randint(0, 17, (4, 4))\n",
    "print(\"RandomIntergers 4x4 Matrix\")\n",
    "print(RandomIntegersMatrix)\n",
    "print()\n",
    "\n",
    "BooleanMask = RandomIntegersMatrix > 4 #Checking those less than\n",
    "print(\"Boolean Mask checking those above 4\")\n",
    "print(BooleanMask)\n",
    "print()\n",
    "print(\"Integers above 4\")\n",
    "RandomIntegersMatrix[BooleanMask] #Subsetting and printing the integers above 4"
   ]
  }
 ],
 "metadata": {
  "kernelspec": {
   "display_name": "Python 3",
   "language": "python",
   "name": "python3"
  },
  "language_info": {
   "codemirror_mode": {
    "name": "ipython",
    "version": 3
   },
   "file_extension": ".py",
   "mimetype": "text/x-python",
   "name": "python",
   "nbconvert_exporter": "python",
   "pygments_lexer": "ipython3",
   "version": "3.8.5"
  },
  "vscode": {
   "interpreter": {
    "hash": "e948b46aa9abb61b8fc97b843695ed17a94d0f686699c28c53621035384d7bb3"
   }
  }
 },
 "nbformat": 4,
 "nbformat_minor": 4
}
