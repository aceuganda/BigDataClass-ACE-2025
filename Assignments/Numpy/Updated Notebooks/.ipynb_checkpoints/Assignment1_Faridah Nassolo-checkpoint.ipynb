{
 "cells": [
  {
   "cell_type": "markdown",
   "metadata": {},
   "source": [
    "## Numpy Assignment 1\n",
    "\n",
    "- Student Name  : Faridah Nassolo\n",
    "- Student RegNo : 2021/HD07/3240U\n",
    "\n",
    "### Instructions\n",
    "- Please answer the exercises to the best of your knowledge.\n",
    "- The assignment is out of 10 marks and will contribute partially to your final result."
   ]
  },
  {
   "cell_type": "code",
   "execution_count": 1,
   "metadata": {},
   "outputs": [
    {
     "data": {
      "text/plain": [
       "array([0, 1, 2, 3, 4, 5, 6, 7, 8, 9])"
      ]
     },
     "execution_count": 1,
     "metadata": {},
     "output_type": "execute_result"
    }
   ],
   "source": [
    "#create numpy one dimentional array with 10 elements\n",
    "\n",
    "import numpy as np\n",
    "Array = np.arange(10) # np.arange function creates evenly spaced elements in an array\n",
    "Array"
   ]
  },
  {
   "cell_type": "code",
   "execution_count": 2,
   "metadata": {},
   "outputs": [
    {
     "data": {
      "text/plain": [
       "array([1, 2, 3, 4, 5])"
      ]
     },
     "execution_count": 2,
     "metadata": {},
     "output_type": "execute_result"
    }
   ],
   "source": [
    "#create an numpy array from a python list\n",
    "\n",
    "List = [1, 2, 3, 4, 5] # create list\n",
    "Array = np.array(List)  # np.array creates a numpy array from a python list\n",
    "Array"
   ]
  },
  {
   "cell_type": "code",
   "execution_count": 3,
   "metadata": {},
   "outputs": [
    {
     "data": {
      "text/plain": [
       "array([0.  , 0.25, 0.5 , 0.75, 1.  ])"
      ]
     },
     "execution_count": 3,
     "metadata": {},
     "output_type": "execute_result"
    }
   ],
   "source": [
    "# create an array of five values evenly spaced between 0 and 1\n",
    "MyArray = np.linspace(0, 1, 5) # np.linspace returns evenly spaced values & allows you define the No.of steps i.e 5\n",
    "MyArray"
   ]
  },
  {
   "cell_type": "code",
   "execution_count": 4,
   "metadata": {},
   "outputs": [
    {
     "data": {
      "text/plain": [
       "array([[-0.82452908, -1.10063577,  2.20065639],\n",
       "       [-1.49060932, -3.09966466, -2.31811418],\n",
       "       [-3.73649061, -0.68935559, -3.16138793]])"
      ]
     },
     "execution_count": 4,
     "metadata": {},
     "output_type": "execute_result"
    }
   ],
   "source": [
    "# Create a 3x3 array of normally distributed random values\n",
    "# with mean 0 and standard deviation 3\n",
    "Array = np.random.normal(0, 3, (3, 3))#np.random.normal function returns normally distributed random values\n",
    "Array"
   ]
  },
  {
   "cell_type": "code",
   "execution_count": 5,
   "metadata": {},
   "outputs": [
    {
     "data": {
      "text/plain": [
       "array([[1.+0.j, 1.+0.j, 1.+0.j, 1.+0.j, 1.+0.j],\n",
       "       [1.+0.j, 1.+0.j, 1.+0.j, 1.+0.j, 1.+0.j],\n",
       "       [1.+0.j, 1.+0.j, 1.+0.j, 1.+0.j, 1.+0.j],\n",
       "       [1.+0.j, 1.+0.j, 1.+0.j, 1.+0.j, 1.+0.j],\n",
       "       [1.+0.j, 1.+0.j, 1.+0.j, 1.+0.j, 1.+0.j]])"
      ]
     },
     "execution_count": 5,
     "metadata": {},
     "output_type": "execute_result"
    }
   ],
   "source": [
    "#creat a 5x5 array with complex numbers\n",
    "ComplexArray = np.ones((5, 5), dtype=complex) # created a dtype(complex) array of ones\n",
    "ComplexArray"
   ]
  },
  {
   "cell_type": "code",
   "execution_count": 6,
   "metadata": {},
   "outputs": [
    {
     "data": {
      "text/plain": [
       "array([3, 4, 5, 6, 7])"
      ]
     },
     "execution_count": 6,
     "metadata": {},
     "output_type": "execute_result"
    }
   ],
   "source": [
    "#create a one dimentional array with 20 elements and return elements from 3 to 7\n",
    "Array = np.arange(20) # np.arange creates evenly spaced elements\n",
    "Array\n",
    "Array[3:8] #returns elements from 3 to 7\n"
   ]
  },
  {
   "cell_type": "code",
   "execution_count": 7,
   "metadata": {},
   "outputs": [
    {
     "data": {
      "text/plain": [
       "array([[2, 0, 0],\n",
       "       [0, 3, 3],\n",
       "       [2, 0, 4]])"
      ]
     },
     "execution_count": 7,
     "metadata": {},
     "output_type": "execute_result"
    }
   ],
   "source": [
    "#create a 3x3 array of random integers and reverse elements of the first row\n",
    "MyArray = np.random.randint(0, 5, (3, 3)) #interval[0, 5]\n",
    "MyArray"
   ]
  },
  {
   "cell_type": "code",
   "execution_count": 8,
   "metadata": {},
   "outputs": [
    {
     "name": "stdout",
     "output_type": "stream",
     "text": [
      "[2 0 0]\n",
      "[0 0 2]\n"
     ]
    }
   ],
   "source": [
    "x = MyArray[0, :]# elements of the first row\n",
    "print(x) \n",
    "print(x[::-1])# reverse of the first row"
   ]
  },
  {
   "cell_type": "code",
   "execution_count": 9,
   "metadata": {},
   "outputs": [
    {
     "data": {
      "text/plain": [
       "array([[3, 3, 2, 3],\n",
       "       [1, 2, 2, 4],\n",
       "       [0, 3, 0, 0],\n",
       "       [1, 4, 2, 4]])"
      ]
     },
     "execution_count": 9,
     "metadata": {},
     "output_type": "execute_result"
    }
   ],
   "source": [
    "#create 2 4x4 arrays and stack them both vertically and horizontally\n",
    "ArrayM = np.random.randint(0, 5, (4, 4)) # a 4x4 array of random integers in the interval [0, 5]\n",
    "ArrayM"
   ]
  },
  {
   "cell_type": "code",
   "execution_count": 10,
   "metadata": {},
   "outputs": [
    {
     "data": {
      "text/plain": [
       "array([[9, 9, 2, 9],\n",
       "       [3, 0, 1, 1],\n",
       "       [5, 1, 3, 1],\n",
       "       [2, 8, 6, 5]])"
      ]
     },
     "execution_count": 10,
     "metadata": {},
     "output_type": "execute_result"
    }
   ],
   "source": [
    "ArrayN = np.random.randint(0, 10, (4, 4)) # a 4x4 array of random integers in the interval [0, 10]\n",
    "ArrayN"
   ]
  },
  {
   "cell_type": "code",
   "execution_count": 11,
   "metadata": {},
   "outputs": [
    {
     "data": {
      "text/plain": [
       "array([[3, 3, 2, 3],\n",
       "       [1, 2, 2, 4],\n",
       "       [0, 3, 0, 0],\n",
       "       [1, 4, 2, 4],\n",
       "       [9, 9, 2, 9],\n",
       "       [3, 0, 1, 1],\n",
       "       [5, 1, 3, 1],\n",
       "       [2, 8, 6, 5]])"
      ]
     },
     "execution_count": 11,
     "metadata": {},
     "output_type": "execute_result"
    }
   ],
   "source": [
    "np.vstack([ArrayM, ArrayN])# vertically stack the arrays"
   ]
  },
  {
   "cell_type": "code",
   "execution_count": 12,
   "metadata": {},
   "outputs": [
    {
     "data": {
      "text/plain": [
       "array([[3, 3, 2, 3, 9, 9, 2, 9],\n",
       "       [1, 2, 2, 4, 3, 0, 1, 1],\n",
       "       [0, 3, 0, 0, 5, 1, 3, 1],\n",
       "       [1, 4, 2, 4, 2, 8, 6, 5]])"
      ]
     },
     "execution_count": 12,
     "metadata": {},
     "output_type": "execute_result"
    }
   ],
   "source": [
    "np.hstack([ArrayM, ArrayN]) #horizontally stack the arrays"
   ]
  },
  {
   "cell_type": "code",
   "execution_count": 13,
   "metadata": {},
   "outputs": [
    {
     "ename": "SyntaxError",
     "evalue": "invalid syntax (<ipython-input-13-5611ad9c0a9e>, line 3)",
     "output_type": "error",
     "traceback": [
      "\u001b[0;36m  File \u001b[0;32m\"<ipython-input-13-5611ad9c0a9e>\"\u001b[0;36m, line \u001b[0;32m3\u001b[0m\n\u001b[0;31m    1: If the two arrays differ in their number of dimensions, the shape of the one with fewer dimensions is padded with ones on its leading (left) side.\u001b[0m\n\u001b[0m            ^\u001b[0m\n\u001b[0;31mSyntaxError\u001b[0m\u001b[0;31m:\u001b[0m invalid syntax\n"
     ]
    }
   ],
   "source": [
    "#what are the rules of numpy broadcasting?\n",
    "\n",
    "1: If the two arrays differ in their number of dimensions, the shape of the one with fewer dimensions is padded with ones on its leading (left) side.\n",
    "2: If the shape of the two arrays does not match in any dimension, the array with a shape equal to 1 in that dimension is stretched to match the other shape.\n",
    "3: If in any dimension the sizes disagree and neither is equal to 1, an error is raised."
   ]
  },
  {
   "cell_type": "code",
   "execution_count": 14,
   "metadata": {},
   "outputs": [
    {
     "data": {
      "text/plain": [
       "array([[1., 0., 0.],\n",
       "       [0., 1., 0.],\n",
       "       [0., 0., 1.]])"
      ]
     },
     "execution_count": 14,
     "metadata": {},
     "output_type": "execute_result"
    }
   ],
   "source": [
    "# create two 3X3 matrices that are incopatible and raise an error\n",
    "Matrix1 = np.eye(3, 3)  # create an identity matrix of shape (3, 3)\n",
    "Matrix1"
   ]
  },
  {
   "cell_type": "code",
   "execution_count": 15,
   "metadata": {},
   "outputs": [
    {
     "data": {
      "text/plain": [
       "array([], shape=(0, 3), dtype=float64)"
      ]
     },
     "execution_count": 15,
     "metadata": {},
     "output_type": "execute_result"
    }
   ],
   "source": [
    "Matrix2 = np.eye(0, 3)  # create an identity matrix of shape (0, 3)\n",
    "Matrix2"
   ]
  },
  {
   "cell_type": "code",
   "execution_count": 16,
   "metadata": {},
   "outputs": [
    {
     "ename": "ValueError",
     "evalue": "operands could not be broadcast together with shapes (3,3) (0,3) ",
     "output_type": "error",
     "traceback": [
      "\u001b[0;31m---------------------------------------------------------------------------\u001b[0m",
      "\u001b[0;31mValueError\u001b[0m                                Traceback (most recent call last)",
      "\u001b[0;32m<ipython-input-16-79c4c6e42935>\u001b[0m in \u001b[0;36m<module>\u001b[0;34m\u001b[0m\n\u001b[0;32m----> 1\u001b[0;31m \u001b[0mMatrix1\u001b[0m \u001b[0;34m+\u001b[0m \u001b[0mMatrix2\u001b[0m \u001b[0;31m#  the arrays are incompatible because the final shapes don't match\u001b[0m\u001b[0;34m\u001b[0m\u001b[0;34m\u001b[0m\u001b[0m\n\u001b[0m",
      "\u001b[0;31mValueError\u001b[0m: operands could not be broadcast together with shapes (3,3) (0,3) "
     ]
    }
   ],
   "source": [
    "Matrix1 + Matrix2 #  the arrays are incompatible because the final shapes don't match "
   ]
  },
  {
   "cell_type": "code",
   "execution_count": 17,
   "metadata": {},
   "outputs": [
    {
     "data": {
      "text/plain": [
       "array([[6, 4, 6, 7],\n",
       "       [1, 7, 4, 5],\n",
       "       [4, 1, 5, 9],\n",
       "       [1, 9, 8, 1]])"
      ]
     },
     "execution_count": 17,
     "metadata": {},
     "output_type": "execute_result"
    }
   ],
   "source": [
    "#create a 4x4 matrix with random integers and use a boolean mask to check for those above 4\n",
    "y = np.random.randint(0, 10, (4, 4)) # first created a 4x4 array of interval[0, 10]\n",
    "y"
   ]
  },
  {
   "cell_type": "code",
   "execution_count": 18,
   "metadata": {},
   "outputs": [
    {
     "data": {
      "text/plain": [
       "array([[ True, False,  True,  True],\n",
       "       [False,  True, False,  True],\n",
       "       [False, False,  True,  True],\n",
       "       [False,  True,  True, False]])"
      ]
     },
     "execution_count": 18,
     "metadata": {},
     "output_type": "execute_result"
    }
   ],
   "source": [
    "y > 4 # using a boolean mask to check for values greater than 4"
   ]
  }
 ],
 "metadata": {
  "kernelspec": {
   "display_name": "Python 3",
   "language": "python",
   "name": "python3"
  },
  "language_info": {
   "codemirror_mode": {
    "name": "ipython",
    "version": 3
   },
   "file_extension": ".py",
   "mimetype": "text/x-python",
   "name": "python",
   "nbconvert_exporter": "python",
   "pygments_lexer": "ipython3",
   "version": "3.7.6"
  }
 },
 "nbformat": 4,
 "nbformat_minor": 4
}
