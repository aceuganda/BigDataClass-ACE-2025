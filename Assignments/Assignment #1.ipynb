{
 "cells": [
  {
   "cell_type": "markdown",
   "metadata": {},
   "source": [
    "## Numpy Assignment 1\n",
    "\n",
    "- Student Name:\n",
    "- Student RegNo:\n",
    "\n",
    "### Instructions\n",
    "- Please answer the exercises to the best of your knowledge.\n",
    "- The assignment is out of 10 marks and will contribute partially to your final result."
   ]
  },
  {
   "cell_type": "code",
   "execution_count": 198,
   "metadata": {},
   "outputs": [
    {
     "data": {
      "text/plain": [
       "array([92, 90, 98, 98, 93, 98, 92, 98, 94, 93])"
      ]
     },
     "execution_count": 198,
     "metadata": {},
     "output_type": "execute_result"
    }
   ],
   "source": [
    "#create numpy one dimentional array with 10 elements\n",
    "import numpy as num\n",
    "myArray = num.random.randint(90,100, size=10)\n",
    "myArray"
   ]
  },
  {
   "cell_type": "code",
   "execution_count": 185,
   "metadata": {},
   "outputs": [
    {
     "name": "stdout",
     "output_type": "stream",
     "text": [
      "[95 90 93 93 97 99 93 95 92 94]\n"
     ]
    },
    {
     "data": {
      "text/plain": [
       "numpy.ndarray"
      ]
     },
     "execution_count": 185,
     "metadata": {},
     "output_type": "execute_result"
    }
   ],
   "source": [
    "#create an numpy array from a python list\n",
    "my_list = [95, 90, 93, 93, 97, 99, 93, 95, 92, 94]\n",
    "#my_array = num.asarray(my_list)\n",
    "my_array = num.array(my_list)\n",
    "print (my_array) # printing my_array\n",
    "type(my_array)"
   ]
  },
  {
   "cell_type": "code",
   "execution_count": 186,
   "metadata": {},
   "outputs": [
    {
     "data": {
      "text/plain": [
       "array([0. , 0.2, 0.4, 0.6, 0.8])"
      ]
     },
     "execution_count": 186,
     "metadata": {},
     "output_type": "execute_result"
    }
   ],
   "source": [
    "# create an array of five values evenly spaced between 0 and 1\n",
    "evenArray=num.arange(0,1,0.2)\n",
    "evenArray"
   ]
  },
  {
   "cell_type": "code",
   "execution_count": 187,
   "metadata": {},
   "outputs": [
    {
     "data": {
      "text/plain": [
       "array([[ 5.29215704,  1.20047163,  2.93621395],\n",
       "       [ 6.7226796 ,  5.60267397, -2.93183364],\n",
       "       [ 2.85026525, -0.45407162, -0.30965656]])"
      ]
     },
     "execution_count": 187,
     "metadata": {},
     "output_type": "execute_result"
    }
   ],
   "source": [
    "# Create a 3x3 array of normally distributed random values\n",
    "# with mean 0 and standard deviation 3\n",
    "num.random.seed(0)\n",
    "myStdDev = 3\n",
    "myMean = 0\n",
    "num.random.normal(myMean, myStdDev, size=(3, 3))"
   ]
  },
  {
   "cell_type": "code",
   "execution_count": 188,
   "metadata": {},
   "outputs": [
    {
     "data": {
      "text/plain": [
       "array([[ 1.821197  +0.3041757j ,  1.28808714+1.31269794j,\n",
       "         3.90854701+3.46058136j,  2.52207545+3.4047597j ,\n",
       "         1.24335003+0.22534637j],\n",
       "       [ 1.88772647+0.3953945j ,  1.66734865-1.09710593j,\n",
       "         3.98815815-1.84003587j,  0.58968347-2.41254038j,\n",
       "         1.6261354 +4.90155079j],\n",
       "       [-0.70819148-0.01930436j, -4.10597963+0.1238514j ,\n",
       "         2.30723719-1.50559072j,  2.7288724 +2.55498071j,\n",
       "        -0.48433004-2.2277957j ],\n",
       "       [ 5.53950925+0.57451944j, -1.90873135-0.79093312j,\n",
       "         1.09151703+1.773805j  ,  0.6256323 -0.02161028j,\n",
       "         4.06555843-1.36126437j],\n",
       "       [ 3.93871754+0.94363554j,  1.30989485+1.85666374j,\n",
       "         1.75632504+1.13303444j, -0.7755715 +1.6049438j ,\n",
       "        -2.96159294-0.26864419j]])"
      ]
     },
     "execution_count": 188,
     "metadata": {},
     "output_type": "execute_result"
    }
   ],
   "source": [
    "#creat a 5x5 array with complex numbers\n",
    "complexArray = num.random.normal(1,2, size=(5,5)) + num.random.normal(1,2, size=(5,5)) * 1j\n",
    "complexArray"
   ]
  },
  {
   "cell_type": "code",
   "execution_count": 189,
   "metadata": {},
   "outputs": [],
   "source": [
    "#create a one dimentional array with 20 elements and return elements from 3 to 7"
   ]
  },
  {
   "cell_type": "code",
   "execution_count": 190,
   "metadata": {},
   "outputs": [],
   "source": [
    "#create a 3x3 array of random integers and reverse elements of the first row"
   ]
  },
  {
   "cell_type": "code",
   "execution_count": 191,
   "metadata": {},
   "outputs": [],
   "source": [
    "#create 2 4x4 arrays and stack them both vertically and horizontally"
   ]
  },
  {
   "cell_type": "code",
   "execution_count": 192,
   "metadata": {},
   "outputs": [],
   "source": [
    "#what are the rules of numpy broadcasting?"
   ]
  },
  {
   "cell_type": "code",
   "execution_count": 193,
   "metadata": {},
   "outputs": [],
   "source": [
    "# create two 3X3 matrices that are incopatible and raise an error"
   ]
  },
  {
   "cell_type": "code",
   "execution_count": 194,
   "metadata": {},
   "outputs": [],
   "source": [
    "#create a 4x4 matrix with random integers and use a boolean mask to check for those above 4"
   ]
  }
 ],
 "metadata": {
  "kernelspec": {
   "display_name": "Python 3.9.12 ('base')",
   "language": "python",
   "name": "python3"
  },
  "language_info": {
   "codemirror_mode": {
    "name": "ipython",
    "version": 3
   },
   "file_extension": ".py",
   "mimetype": "text/x-python",
   "name": "python",
   "nbconvert_exporter": "python",
   "pygments_lexer": "ipython3",
   "version": "3.9.12"
  },
  "vscode": {
   "interpreter": {
    "hash": "1e5c683bbd3569ebf708f1c7309e809c78da43066f7b5309f73ae48079d3fe92"
   }
  }
 },
 "nbformat": 4,
 "nbformat_minor": 4
}
