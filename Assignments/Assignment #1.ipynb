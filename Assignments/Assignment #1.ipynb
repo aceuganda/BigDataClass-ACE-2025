{
 "cells": [
  {
   "cell_type": "markdown",
   "metadata": {},
   "source": [
    "## Numpy Assignment 1\n",
    "\n",
    "- Student Name:\n",
    "- Student RegNo:\n",
    "\n",
    "### Instructions\n",
    "- Please answer the exercises to the best of your knowledge.\n",
    "- The assignment is out of 10 marks and will contribute partially to your final result."
   ]
  },
  {
   "cell_type": "code",
   "execution_count": 2,
   "metadata": {},
   "outputs": [
    {
     "name": "stdout",
     "output_type": "stream",
     "text": [
      "[95 90 93 93 97 99 93 95 92 94]\n",
      "1\n"
     ]
    }
   ],
   "source": [
    "#create numpy one dimentional array with 10 elements\n",
    "import numpy as num\n",
    "num.random.seed(0)\n",
    "myArray = num.random.randint(90,100, size=10)\n",
    "print(myArray)\n",
    "print(myArray.ndim)"
   ]
  },
  {
   "cell_type": "code",
   "execution_count": 3,
   "metadata": {},
   "outputs": [
    {
     "name": "stdout",
     "output_type": "stream",
     "text": [
      "<class 'list'>\n",
      "[95 90 93 93 97 99 93 95 92 94]\n"
     ]
    },
    {
     "data": {
      "text/plain": [
       "numpy.ndarray"
      ]
     },
     "execution_count": 3,
     "metadata": {},
     "output_type": "execute_result"
    }
   ],
   "source": [
    "#create an numpy array from a python list\n",
    "my_list = [95, 90, 93, 93, 97, 99, 93, 95, 92, 94] #creating a list\n",
    "print(type(my_list))\n",
    "#my_array = num.asarray(my_list)\n",
    "my_array = num.array(my_list)\n",
    "print (my_array) # printing my_array\n",
    "type(my_array)"
   ]
  },
  {
   "cell_type": "code",
   "execution_count": 4,
   "metadata": {},
   "outputs": [
    {
     "data": {
      "text/plain": [
       "array([0. , 0.2, 0.4, 0.6, 0.8])"
      ]
     },
     "execution_count": 4,
     "metadata": {},
     "output_type": "execute_result"
    }
   ],
   "source": [
    "# create an array of five values evenly spaced between 0 and 1\n",
    "#evenArray=num.linspace(0, 1, 5)\n",
    "evenArray=num.arange(0,1,0.2)\n",
    "evenArray"
   ]
  },
  {
   "cell_type": "code",
   "execution_count": 5,
   "metadata": {},
   "outputs": [
    {
     "data": {
      "text/plain": [
       "array([[ 5.29215704,  1.20047163,  2.93621395],\n",
       "       [ 6.7226796 ,  5.60267397, -2.93183364],\n",
       "       [ 2.85026525, -0.45407162, -0.30965656]])"
      ]
     },
     "execution_count": 5,
     "metadata": {},
     "output_type": "execute_result"
    }
   ],
   "source": [
    "# Create a 3x3 array of normally distributed random values\n",
    "# with mean 0 and standard deviation 3\n",
    "num.random.seed(0)\n",
    "myStdDev = 3\n",
    "myMean = 0\n",
    "num.random.normal(myMean, myStdDev, size=(3, 3))"
   ]
  },
  {
   "cell_type": "code",
   "execution_count": 6,
   "metadata": {},
   "outputs": [
    {
     "data": {
      "text/plain": [
       "2"
      ]
     },
     "execution_count": 6,
     "metadata": {},
     "output_type": "execute_result"
    }
   ],
   "source": [
    "#creat a 5x5 array with complex numbers\n",
    "complexArray = num.random.normal(1,2, size=(5,5)) + num.random.normal(1,2, size=(5,5)) * 1j\n",
    "complexArray\n",
    "complexArray.ndim"
   ]
  },
  {
   "cell_type": "code",
   "execution_count": 7,
   "metadata": {},
   "outputs": [
    {
     "name": "stdout",
     "output_type": "stream",
     "text": [
      "[45 48 65 68 68 10 84 22 37 88 71 89 89 13 59 66 40 88 47 89]\n",
      "[68 68 10 84 22]\n"
     ]
    }
   ],
   "source": [
    "#create a one dimentional array with 20 elements and return elements from 3 to 7\n",
    "num.random.seed(0)\n",
    "twentyElementsArray=num.random.randint(1,100, size=20)\n",
    "print(twentyElementsArray)\n",
    "print(twentyElementsArray[3:8])\n"
   ]
  },
  {
   "cell_type": "code",
   "execution_count": 8,
   "metadata": {},
   "outputs": [
    {
     "name": "stdout",
     "output_type": "stream",
     "text": [
      "[[45 48 65]\n",
      " [68 68 10]\n",
      " [84 22 37]]\n",
      "[65 48 45]\n"
     ]
    }
   ],
   "source": [
    "#create a 3x3 array of random integers and reverse elements of the first row\n",
    "num.random.seed(0)\n",
    "randomIntsArray=num.random.randint(1,100, size=(3,3))\n",
    "print(randomIntsArray)\n",
    "reversedArray=num.flip(randomIntsArray[0,:], axis=0)\n",
    "print(reversedArray)"
   ]
  },
  {
   "cell_type": "code",
   "execution_count": 9,
   "metadata": {},
   "outputs": [
    {
     "name": "stdout",
     "output_type": "stream",
     "text": [
      "[[24  7 25 25]\n",
      " [13  2 39 40]\n",
      " [24 47 25 18]\n",
      " [38 26 14  9]]\n",
      "\n",
      "[[59 70 66 55]\n",
      " [65 97 50 68]\n",
      " [85 74 99 79]\n",
      " [69 69 64 89]]\n",
      " \n",
      "[[24  7 25 25]\n",
      " [13  2 39 40]\n",
      " [24 47 25 18]\n",
      " [38 26 14  9]\n",
      " [59 70 66 55]\n",
      " [65 97 50 68]\n",
      " [85 74 99 79]\n",
      " [69 69 64 89]]\n",
      " \n",
      "[[24  7 25 25 59 70 66 55]\n",
      " [13  2 39 40 65 97 50 68]\n",
      " [24 47 25 18 85 74 99 79]\n",
      " [38 26 14  9 69 69 64 89]]\n"
     ]
    }
   ],
   "source": [
    "#create 2 4x4 arrays and stack them both vertically and horizontally\n",
    "firstArray = num.random.randint(1, 50, size=(4,4))\n",
    "secondArray = num.random.randint(50,100,size=(4,4))\n",
    "print(firstArray)\n",
    "print(\"\")\n",
    "print(secondArray)\n",
    "#stacking arrays\n",
    "verticallyStacked = num.vstack([firstArray, secondArray])\n",
    "horizontallyStacked = num.hstack([firstArray, secondArray]) \n",
    "print(\" \")\n",
    "print(verticallyStacked)\n",
    "print(\" \")\n",
    "print(horizontallyStacked)\n"
   ]
  },
  {
   "cell_type": "code",
   "execution_count": 10,
   "metadata": {},
   "outputs": [],
   "source": [
    "#what are the rules of numpy broadcasting?\n",
    "#Rule 1: If the two arrays differ in their number of dimensions, the shape of the one with fewer dimensions is padded with ones on its leading (left) side.\n",
    "#Rule 2: If the shape of the two arrays does not match in any dimension, the array with shape equal to 1 in that dimension is stretched to match the other shape.\n",
    "#Rule 3: If in any dimension the sizes disagree and neither is equal to 1, an error is raised."
   ]
  },
  {
   "cell_type": "code",
   "execution_count": 18,
   "metadata": {},
   "outputs": [
    {
     "name": "stdout",
     "output_type": "stream",
     "text": [
      "[[6 1]\n",
      " [4 4]\n",
      " [8 4]]\n",
      "\n",
      "(3, 2)\n",
      "\n",
      "[[15 12]\n",
      " [14 17]]\n"
     ]
    },
    {
     "ename": "ValueError",
     "evalue": "operands could not be broadcast together with shapes (3,2) (2,2) ",
     "output_type": "error",
     "traceback": [
      "\u001b[1;31m---------------------------------------------------------------------------\u001b[0m",
      "\u001b[1;31mValueError\u001b[0m                                Traceback (most recent call last)",
      "\u001b[1;32mc:\\Users\\JAMES\\Documents\\GitHub\\BigDataClass-ACE-Sem-II-2021-2022\\Assignments\\Assignment #1.ipynb Cell 11'\u001b[0m in \u001b[0;36m<cell line: 14>\u001b[1;34m()\u001b[0m\n\u001b[0;32m     <a href='vscode-notebook-cell:/c%3A/Users/JAMES/Documents/GitHub/BigDataClass-ACE-Sem-II-2021-2022/Assignments/Assignment%20%231.ipynb#ch0000010?line=11'>12</a>\u001b[0m array2\u001b[39m.\u001b[39mshape\n\u001b[0;32m     <a href='vscode-notebook-cell:/c%3A/Users/JAMES/Documents/GitHub/BigDataClass-ACE-Sem-II-2021-2022/Assignments/Assignment%20%231.ipynb#ch0000010?line=12'>13</a>\u001b[0m \u001b[39m#Adding array1 + array2 should raise an error because the two arrays do not meet rule 3 of array broadcasting above.\u001b[39;00m\n\u001b[1;32m---> <a href='vscode-notebook-cell:/c%3A/Users/JAMES/Documents/GitHub/BigDataClass-ACE-Sem-II-2021-2022/Assignments/Assignment%20%231.ipynb#ch0000010?line=13'>14</a>\u001b[0m \u001b[39mprint\u001b[39m(array1 \u001b[39m+\u001b[39;49m array2)\n",
      "\u001b[1;31mValueError\u001b[0m: operands could not be broadcast together with shapes (3,2) (2,2) "
     ]
    }
   ],
   "source": [
    "# create two 3X3 matrices that are incopatible and raise an error\n",
    "num.random.seed(0)\n",
    "#creating a 3x2 array\n",
    "array1=num.random.randint(1, 10, (3, 2))\n",
    "print(array1)\n",
    "print(\"\")\n",
    "print(array1.shape)\n",
    "#creating a 2x2 array\n",
    "array2=num.random.randint(10, 20, (2, 2))\n",
    "print(\"\")\n",
    "print(array2)\n",
    "array2.shape\n",
    "#Adding array1 + array2 should raise an error because the two arrays do not meet rule 3 of array broadcasting above.\n",
    "print(array1 + array2)"
   ]
  },
  {
   "cell_type": "code",
   "execution_count": 12,
   "metadata": {},
   "outputs": [
    {
     "name": "stdout",
     "output_type": "stream",
     "text": [
      "[[13 16  1  4]\n",
      " [ 4  8 10 19]\n",
      " [ 5  7 13  2]\n",
      " [ 7  8 15 18]]\n"
     ]
    },
    {
     "data": {
      "text/plain": [
       "array([[ True,  True, False, False],\n",
       "       [False,  True,  True,  True],\n",
       "       [ True,  True,  True, False],\n",
       "       [ True,  True,  True,  True]])"
      ]
     },
     "execution_count": 12,
     "metadata": {},
     "output_type": "execute_result"
    }
   ],
   "source": [
    "#create a 4x4 matrix with random integers and use a boolean mask to check for those above 4\n",
    "num.random.seed(0)\n",
    "randomArray = num.random.randint(1, 20, (4, 4))\n",
    "print(randomArray)\n",
    "randomArray > 4 #Checking for values greater than 4"
   ]
  }
 ],
 "metadata": {
  "kernelspec": {
   "display_name": "Python 3.9.12 ('base')",
   "language": "python",
   "name": "python3"
  },
  "language_info": {
   "codemirror_mode": {
    "name": "ipython",
    "version": 3
   },
   "file_extension": ".py",
   "mimetype": "text/x-python",
   "name": "python",
   "nbconvert_exporter": "python",
   "pygments_lexer": "ipython3",
   "version": "3.9.12"
  },
  "vscode": {
   "interpreter": {
    "hash": "1e5c683bbd3569ebf708f1c7309e809c78da43066f7b5309f73ae48079d3fe92"
   }
  }
 },
 "nbformat": 4,
 "nbformat_minor": 4
}
