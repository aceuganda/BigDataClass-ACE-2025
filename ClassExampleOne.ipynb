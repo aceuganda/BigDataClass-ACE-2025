{
 "cells": [
  {
   "cell_type": "markdown",
   "id": "30ac32fd-683e-4d0e-a0d6-9597de540e4f",
   "metadata": {},
   "source": [
    "# I want to print hello world text\n",
    "print(\"hello world\")"
   ]
  },
  {
   "cell_type": "markdown",
   "id": "0544bdba-3e67-476b-9386-e9069646f175",
   "metadata": {},
   "source": []
  }
 ],
 "metadata": {
  "kernelspec": {
   "display_name": "Python [conda env:base] *",
   "language": "python",
   "name": "conda-base-py"
  },
  "language_info": {
   "codemirror_mode": {
    "name": "ipython",
    "version": 3
   },
   "file_extension": ".py",
   "mimetype": "text/x-python",
   "name": "python",
   "nbconvert_exporter": "python",
   "pygments_lexer": "ipython3",
   "version": "3.12.7"
  }
 },
 "nbformat": 4,
 "nbformat_minor": 5
}
